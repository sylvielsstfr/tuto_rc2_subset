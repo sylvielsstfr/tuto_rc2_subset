{
 "cells": [
  {
   "cell_type": "markdown",
   "id": "826655f1-f093-4491-9631-db3a3d872cbc",
   "metadata": {
    "execution": {
     "iopub.execute_input": "2023-04-19T04:32:13.353992Z",
     "iopub.status.busy": "2023-04-19T04:32:13.353762Z",
     "iopub.status.idle": "2023-04-19T04:32:13.356535Z",
     "shell.execute_reply": "2023-04-19T04:32:13.356105Z",
     "shell.execute_reply.started": "2023-04-19T04:32:13.353976Z"
    }
   },
   "source": [
    "# Pre-bootcamp exercises: accessing data products via butler\n",
    "\n",
    "**Description:** Demonstrate how to generate science performance diagnostic plots and metrics with the [analysis_tools](https://github.com/lsst/analysis_tools) package using a small test dataset from HSC, [rc2_subset](https://github.com/lsst/rc2_subset).\n",
    "\n",
    "**Contact authors:** Keith Bechtol, Nate Lust\n",
    "\n",
    "**Last verified to run:** 2024-02-20\n",
    "\n",
    "**LSST Science Piplines version:** w_2024_07\n",
    "\n",
    "**Container Size:** Medium (or larger)\n",
    "\n",
    "**Location:** This notebook points to files on the S3DF cluster at the USDF. Update paths accordingly if you are running elsewhere.\n",
    "\n",
    "**Skills:** \n",
    "- Load source and object tables using the Butler.\n",
    "- Generate a science performance diagnostic plot and corresponding metric values interactively in a notebook and as part of a pipeline (simple pipeline executor). \n",
    "- Adjust the configuration used to produce these diagnostics. \n",
    "- Retrieve persisted plots and metrics with the Bulter. \n",
    "- Reconstitute input data products that were used to create plots and metrics for further investigation.\n",
    "\n",
    "\n",
    "For a quicker introduction, use an existing sandbox repo (prepared for this exercise) to bypass data reduction steps and go straight to data access via the Butler. If you want the full experience, run the data reduction steps in `process_rc2_subset.sh` and then point the Butler to your own repo."
   ]
  },
  {
   "cell_type": "markdown",
   "id": "a1afb8fa-b46a-4aad-98c5-429368adcc4b",
   "metadata": {},
   "source": [
    "## Installation of the butler as recommended\n",
    "\n",
    "https://pipelines.lsst.io/getting-started/display.html"
   ]
  },
  {
   "cell_type": "markdown",
   "id": "bcfadd68-5fcc-4e45-8cc0-ac5553139592",
   "metadata": {
    "execution": {
     "iopub.execute_input": "2023-04-19T04:41:39.575692Z",
     "iopub.status.busy": "2023-04-19T04:41:39.574983Z",
     "iopub.status.idle": "2023-04-19T04:41:39.577852Z",
     "shell.execute_reply": "2023-04-19T04:41:39.577435Z",
     "shell.execute_reply.started": "2023-04-19T04:41:39.575672Z"
    },
    "tags": []
   },
   "source": [
    "## Preliminaries"
   ]
  },
  {
   "cell_type": "code",
   "execution_count": 1,
   "id": "18af6ebd-d52c-42b1-8ddf-0d8c5279ec8a",
   "metadata": {
    "execution": {
     "iopub.execute_input": "2024-02-20T20:00:51.715486Z",
     "iopub.status.busy": "2024-02-20T20:00:51.715360Z",
     "iopub.status.idle": "2024-02-20T20:00:51.975974Z",
     "shell.execute_reply": "2024-02-20T20:00:51.975560Z",
     "shell.execute_reply.started": "2024-02-20T20:00:51.715473Z"
    },
    "tags": []
   },
   "outputs": [],
   "source": [
    "# Basic imports\n",
    "import numpy as np\n",
    "\n",
    "import matplotlib as mpl\n",
    "import matplotlib.pyplot as plt\n",
    "\n",
    "from pprint import pprint"
   ]
  },
  {
   "cell_type": "markdown",
   "id": "42873cfc-e091-446e-ac13-36836db1d813",
   "metadata": {},
   "source": [
    "If using your personal rc2_subset repo, set `SANDBOX_REPO = False`"
   ]
  },
  {
   "cell_type": "code",
   "execution_count": 2,
   "id": "d51c15ac-7c24-47a0-b25b-e3579882b25d",
   "metadata": {
    "execution": {
     "iopub.execute_input": "2024-02-20T20:00:51.977514Z",
     "iopub.status.busy": "2024-02-20T20:00:51.977131Z",
     "iopub.status.idle": "2024-02-20T20:00:51.979340Z",
     "shell.execute_reply": "2024-02-20T20:00:51.978971Z",
     "shell.execute_reply.started": "2024-02-20T20:00:51.977499Z"
    },
    "tags": []
   },
   "outputs": [],
   "source": [
    "SANDBOX_REPO = False"
   ]
  },
  {
   "cell_type": "markdown",
   "id": "6045ec69-4cfc-423e-9c58-aca6b96de7f4",
   "metadata": {
    "execution": {
     "iopub.execute_input": "2023-05-04T01:26:13.350555Z",
     "iopub.status.busy": "2023-05-04T01:26:13.350110Z",
     "iopub.status.idle": "2023-05-04T01:26:13.353867Z",
     "shell.execute_reply": "2023-05-04T01:26:13.353352Z",
     "shell.execute_reply.started": "2023-05-04T01:26:13.350537Z"
    },
    "jp-MarkdownHeadingCollapsed": true,
    "tags": []
   },
   "source": [
    "### Getting set up at USDF\n",
    "\n",
    "The USDF is hosted on the S3DF cluster at SLAC. This notebook has been verified to run on the S3DF cluster.\n",
    "\n",
    "See USDF documentation at\n",
    "* https://developer.lsst.io/usdf/lsst-login.html\n",
    "* https://developer.lsst.io/usdf/onboarding.html"
   ]
  },
  {
   "cell_type": "markdown",
   "id": "ca88b668-c6ef-422b-aa05-399c0e42c3ad",
   "metadata": {},
   "source": [
    "### Processing rc2_subset\n",
    "\n",
    "[rc2_subset](https://github.com/lsst-dm/rc2_subset) is a small dataset with just enough Hyper Suprime-Cam (HSC) exposures to compute a set of meaningful science performance metrics.\n",
    "\n",
    "The LSST Science Pipelines [Getting Started tutorial](https://pipelines.lsst.io/#getting-started) provides a guided tour of data processing using rc2_subset as an example.\n",
    "\n",
    "For convenience, there is a shell script `process_rc2_subset.sh` in the same directory as this notebook that shows the commands to process rc2_subset on the USDF."
   ]
  },
  {
   "cell_type": "markdown",
   "id": "641a9b7f-b0f9-4d45-933d-5c123a51f9e8",
   "metadata": {},
   "source": [
    "### Setting up the analysis_tools package"
   ]
  },
  {
   "cell_type": "markdown",
   "id": "53536611-c540-49fb-87db-9f45dc09bf98",
   "metadata": {},
   "source": [
    "Check the version of the stack you are using"
   ]
  },
  {
   "cell_type": "code",
   "execution_count": 3,
   "id": "04c5caf9-7177-4d59-9c69-0fce71bd0816",
   "metadata": {
    "execution": {
     "iopub.execute_input": "2024-02-20T20:00:51.979933Z",
     "iopub.status.busy": "2024-02-20T20:00:51.979809Z",
     "iopub.status.idle": "2024-02-20T20:00:52.390690Z",
     "shell.execute_reply": "2024-02-20T20:00:52.390162Z",
     "shell.execute_reply.started": "2024-02-20T20:00:51.979921Z"
    },
    "tags": []
   },
   "outputs": [
    {
     "name": "stdout",
     "output_type": "stream",
     "text": [
      "lsst_distrib          g4213664e8e+34187316c4 \tcurrent w_2024_07 setup\n"
     ]
    }
   ],
   "source": [
    "!eups list -s | grep lsst_distrib"
   ]
  },
  {
   "cell_type": "markdown",
   "id": "7712911a-48c9-499f-bb5c-e2c7d930c99b",
   "metadata": {},
   "source": [
    "The `analysis_tools` package was added to `lsst_distrib` in August 2022, and accordingly, if you have set up the LSST Stack version `w_2022_32` or later, then you should be able to import `analysis_tools` directly in the notebook.\n",
    "\n",
    "See the header for this notebook for the most recent verified Science Pipelines version for this tutorial."
   ]
  },
  {
   "cell_type": "code",
   "execution_count": 4,
   "id": "63239e01-0499-4898-8101-fd01a3897acf",
   "metadata": {
    "execution": {
     "iopub.execute_input": "2024-02-20T20:00:52.391714Z",
     "iopub.status.busy": "2024-02-20T20:00:52.391456Z",
     "iopub.status.idle": "2024-02-20T20:00:54.121276Z",
     "shell.execute_reply": "2024-02-20T20:00:54.120941Z",
     "shell.execute_reply.started": "2024-02-20T20:00:52.391696Z"
    },
    "tags": []
   },
   "outputs": [
    {
     "name": "stdout",
     "output_type": "stream",
     "text": [
      "/home/d/dagoret/repos/repos_w_2024_07/analysis_tools/python/lsst/analysis/tools/__init__.py\n"
     ]
    }
   ],
   "source": [
    "import lsst.analysis.tools\n",
    "print(lsst.analysis.tools.__file__)"
   ]
  },
  {
   "cell_type": "markdown",
   "id": "bd9e09fe-b7d4-41b2-9cad-5f61c4c14cff",
   "metadata": {
    "execution": {
     "iopub.execute_input": "2023-05-04T01:28:21.164082Z",
     "iopub.status.busy": "2023-05-04T01:28:21.163705Z",
     "iopub.status.idle": "2023-05-04T01:28:21.168877Z",
     "shell.execute_reply": "2023-05-04T01:28:21.168256Z",
     "shell.execute_reply.started": "2023-05-04T01:28:21.164065Z"
    },
    "tags": []
   },
   "source": [
    "**Additional background information:** If you are doing development on the `analysis_tools` package and want to test in a notebook, follow the guidance [here](https://nb.lsst.io/science-pipelines/development-tutorial.html). Brief version below (for work on the RSP at USDF):\n",
    "\n",
    "1. In the termal, clone the [analysis_tools](https://github.com/lsst/analysis_tools) repo and set up the package\n",
    "\n",
    "```\n",
    "source /opt/lsst/software/stack/loadLSST.bash\n",
    "setup lsst_distrib\n",
    "\n",
    "# Choose file location for your repo\n",
    "cd ~/repos/\n",
    "git clone https://github.com/lsst/analysis_tools.git\n",
    "cd analysis_tools\n",
    "setup -k -r .\n",
    "scons\n",
    "```\n",
    "\n",
    "2. Add the following line to `~/notebooks/.user_setups`\n",
    "\n",
    "```\n",
    "setup -k -r ~/repos/analysis_tools\n",
    "```\n",
    "\n",
    "Your local version of `analysis_tools` should now be accessible in a notebook."
   ]
  },
  {
   "cell_type": "markdown",
   "id": "958b0c97-2bcd-42b9-a3de-083f4828c14e",
   "metadata": {
    "tags": []
   },
   "source": [
    "## Load data for testing"
   ]
  },
  {
   "cell_type": "code",
   "execution_count": 5,
   "id": "ea55f341-506c-4df0-a5a1-93810ded50d4",
   "metadata": {
    "execution": {
     "iopub.execute_input": "2024-02-20T20:00:54.122012Z",
     "iopub.status.busy": "2024-02-20T20:00:54.121788Z",
     "iopub.status.idle": "2024-02-20T20:00:54.124055Z",
     "shell.execute_reply": "2024-02-20T20:00:54.123766Z",
     "shell.execute_reply.started": "2024-02-20T20:00:54.121999Z"
    }
   },
   "outputs": [],
   "source": [
    "import lsst.daf.butler as dafButler"
   ]
  },
  {
   "cell_type": "markdown",
   "id": "38543d2d-5a45-4481-aebc-e67d2e8a239e",
   "metadata": {},
   "source": [
    "Point to a shared sandbox instance of the processed rc2_subset or point to your own instance. \n",
    "\n",
    "**Note:** For one of the sections later in the notebook that shows how to run analysis_tools as part of a pipeline, you need to point to your own processed instance of rc2_subset. That section can be skipped if you are pointing to the shared sandbox repo."
   ]
  },
  {
   "cell_type": "code",
   "execution_count": 6,
   "id": "7db15e1a-246f-40a4-8514-b8625247124e",
   "metadata": {
    "execution": {
     "iopub.execute_input": "2024-02-20T20:00:54.124674Z",
     "iopub.status.busy": "2024-02-20T20:00:54.124476Z",
     "iopub.status.idle": "2024-02-20T20:00:54.391829Z",
     "shell.execute_reply": "2024-02-20T20:00:54.391278Z",
     "shell.execute_reply.started": "2024-02-20T20:00:54.124661Z"
    }
   },
   "outputs": [
    {
     "name": "stdout",
     "output_type": "stream",
     "text": [
      "ls: cannot access /sdf/group/rubin/u/dagoret/2024/rc2_subset/SMALL_HST: No such file or directory\n"
     ]
    }
   ],
   "source": [
    "!ls /sdf/group/rubin/u/dagoret/2024/rc2_subset/SMALL_HST"
   ]
  },
  {
   "cell_type": "code",
   "execution_count": 7,
   "id": "d8502fc8-b7c0-42d5-b83e-2ceef4fa101c",
   "metadata": {
    "execution": {
     "iopub.execute_input": "2024-02-20T20:00:54.392719Z",
     "iopub.status.busy": "2024-02-20T20:00:54.392571Z",
     "iopub.status.idle": "2024-02-20T20:00:54.395948Z",
     "shell.execute_reply": "2024-02-20T20:00:54.395575Z",
     "shell.execute_reply.started": "2024-02-20T20:00:54.392705Z"
    },
    "tags": []
   },
   "outputs": [
    {
     "name": "stdout",
     "output_type": "stream",
     "text": [
      "['u/dagoret/single_frame']\n",
      "/sdf/group/rubin/user/dagoret/2024/rc2_subset/SMALL_HSC/\n"
     ]
    }
   ],
   "source": [
    "if SANDBOX_REPO:\n",
    "    # Point to existing sandbox repo if you prefer to skip processing steps\n",
    "    collections = ['u/bechtol']\n",
    "    repo = '/sdf/group/rubin/user/bechtol/bootcamp_2023/rc2_subset/SMALL_HSC/'\n",
    "else:\n",
    "    # User instance of the repo if you have processed rc2_subset yourself\n",
    "    collections = ['u/%s/single_frame'%os.environ['USER']]\n",
    "    #repo = '/sdf/group/rubin/user/%s/rubin-user/bootcamp_2023/rc2_subset/SMALL_HSC/'%(os.environ['USER'])\n",
    "    #repo = '/sdf/group/rubin/user/%s/bootcamp_2023/rc2_subset/SMALL_HSC/'%(os.environ['USER'])\n",
    "    repo = '/sdf/group/rubin/user/%s/2024/rc2_subset/SMALL_HSC/'%(os.environ['USER'])\n",
    "    \n",
    "print(collections)\n",
    "print(repo)"
   ]
  },
  {
   "cell_type": "markdown",
   "id": "928e01e4-525b-4e8c-a7a0-485683df921b",
   "metadata": {},
   "source": [
    "    /sdf/home/d/dagoret/rubin-user/bootcamp_2023/rc2_subset/SMALL_HSC"
   ]
  },
  {
   "cell_type": "code",
   "execution_count": 8,
   "id": "ab6cf20a-98b7-47de-97ab-b33b94ca713f",
   "metadata": {
    "execution": {
     "iopub.execute_input": "2024-02-20T20:00:54.396559Z",
     "iopub.status.busy": "2024-02-20T20:00:54.396428Z",
     "iopub.status.idle": "2024-02-20T20:00:54.606985Z",
     "shell.execute_reply": "2024-02-20T20:00:54.606468Z",
     "shell.execute_reply.started": "2024-02-20T20:00:54.396547Z"
    }
   },
   "outputs": [
    {
     "name": "stdout",
     "output_type": "stream",
     "text": [
      "butler.yaml  gen3.sqlite3  HSC\trefcats  skymaps  u\n"
     ]
    }
   ],
   "source": [
    "!ls /home/d/dagoret/rubin-user/2024/rc2_subset/SMALL_HSC"
   ]
  },
  {
   "cell_type": "code",
   "execution_count": 9,
   "id": "509e92e3-77e8-4fd9-bfab-4b1f764d70d9",
   "metadata": {
    "execution": {
     "iopub.execute_input": "2024-02-20T20:00:54.607910Z",
     "iopub.status.busy": "2024-02-20T20:00:54.607699Z",
     "iopub.status.idle": "2024-02-20T20:00:54.874504Z",
     "shell.execute_reply": "2024-02-20T20:00:54.874078Z",
     "shell.execute_reply.started": "2024-02-20T20:00:54.607895Z"
    },
    "tags": []
   },
   "outputs": [],
   "source": [
    "butler = dafButler.Butler(repo, collections=collections)\n",
    "registry = butler.registry"
   ]
  },
  {
   "cell_type": "markdown",
   "id": "fc90d3c9-688c-48d4-b69d-2ef0d56b4040",
   "metadata": {},
   "source": [
    "## Find the collections"
   ]
  },
  {
   "cell_type": "code",
   "execution_count": 10,
   "id": "68736021-fd40-4e28-9ab4-25aeb30f598d",
   "metadata": {
    "execution": {
     "iopub.execute_input": "2024-02-20T20:00:54.875249Z",
     "iopub.status.busy": "2024-02-20T20:00:54.875076Z",
     "iopub.status.idle": "2024-02-20T20:00:54.879938Z",
     "shell.execute_reply": "2024-02-20T20:00:54.879567Z",
     "shell.execute_reply.started": "2024-02-20T20:00:54.875236Z"
    }
   },
   "outputs": [
    {
     "name": "stdout",
     "output_type": "stream",
     "text": [
      "u/dagoret/fgcm\n",
      "u/dagoret/fgcm/20240220T133226Z\n",
      "u/dagoret/gbdes\n",
      "u/dagoret/gbdes/20240220T154644Z\n",
      "u/dagoret/gbdes/20240220T154749Z\n",
      "u/dagoret/single_frame\n",
      "u/dagoret/single_frame/20240217T161757Z\n",
      "u/dagoret/single_frame/20240217T201030Z\n",
      "u/dagoret/single_frame/20240217T233335Z\n",
      "u/dagoret/single_frame/20240218T142148Z\n",
      "u/dagoret/single_frame/20240219T211454Z\n",
      "u/dagoret/source_calibration\n",
      "u/dagoret/source_calibration/20240220T155025Z\n"
     ]
    }
   ],
   "source": [
    "registry = butler.registry\n",
    "\n",
    "for c in sorted(registry.queryCollections()):\n",
    "    #if \"u/jneveu\" in c and \"auxtel_atmo\" in c:\n",
    "    if \"u/dagoret\" in c:\n",
    "    #if \"u/dagoret\" in c and \"auxtel_atmo\" in c:\n",
    "        print(c)"
   ]
  },
  {
   "cell_type": "code",
   "execution_count": 15,
   "id": "9e3ab50a-e740-45d5-8a35-acbb651e6090",
   "metadata": {
    "execution": {
     "iopub.execute_input": "2024-02-20T20:06:25.683766Z",
     "iopub.status.busy": "2024-02-20T20:06:25.683009Z",
     "iopub.status.idle": "2024-02-20T20:06:25.686153Z",
     "shell.execute_reply": "2024-02-20T20:06:25.685727Z",
     "shell.execute_reply.started": "2024-02-20T20:06:25.683743Z"
    }
   },
   "outputs": [],
   "source": [
    "all_collections = [\"u/dagoret/single_frame\",\"u/dagoret/fgcm\",\"u/dagoret/gbdes\",\"u/dagoret/source_calibration\"]"
   ]
  },
  {
   "cell_type": "markdown",
   "id": "9efe83a0-d105-4a49-8519-0ec861bf2b6c",
   "metadata": {
    "execution": {
     "iopub.execute_input": "2023-04-19T04:34:52.356165Z",
     "iopub.status.busy": "2023-04-19T04:34:52.355921Z",
     "iopub.status.idle": "2023-04-19T04:34:52.358613Z",
     "shell.execute_reply": "2023-04-19T04:34:52.358183Z",
     "shell.execute_reply.started": "2023-04-19T04:34:52.356149Z"
    },
    "tags": []
   },
   "source": [
    "Check what dataset types are present in the collection. Note that the cell below will show _only the dataset types that are present in the specified collection_, not all of the possible dataset types that are known to the butler registry."
   ]
  },
  {
   "cell_type": "markdown",
   "id": "6c7adb7c-0fcf-4a7a-ab2a-787853116bcc",
   "metadata": {},
   "source": [
    "## Datasets Types in collections"
   ]
  },
  {
   "cell_type": "code",
   "execution_count": 16,
   "id": "4b2522e7-35e1-4475-b503-e727bae939f3",
   "metadata": {
    "execution": {
     "iopub.execute_input": "2024-02-20T20:06:27.975580Z",
     "iopub.status.busy": "2024-02-20T20:06:27.975145Z",
     "iopub.status.idle": "2024-02-20T20:06:29.746011Z",
     "shell.execute_reply": "2024-02-20T20:06:29.745667Z",
     "shell.execute_reply.started": "2024-02-20T20:06:27.975566Z"
    },
    "tags": []
   },
   "outputs": [
    {
     "name": "stdout",
     "output_type": "stream",
     "text": [
      "======================= u/dagoret/single_frame ========================\n",
      "DatasetType('bfKernel', {instrument}, NumpyArray, isCalibration=True)\n",
      "DatasetType('bias', {instrument, detector}, ExposureF, isCalibration=True)\n",
      "DatasetType('brightObjectMask', {band, skymap, tract, patch}, ObjectMaskCatalog)\n",
      "DatasetType('camera', {instrument}, Camera, isCalibration=True)\n",
      "DatasetType('dark', {instrument, detector}, ExposureF, isCalibration=True)\n",
      "DatasetType('defects', {instrument, detector}, Defects, isCalibration=True)\n",
      "DatasetType('fgcmLookUpTable', {instrument}, Catalog)\n",
      "DatasetType('flat', {band, instrument, detector, physical_filter}, ExposureF, isCalibration=True)\n",
      "DatasetType('fringe', {band, instrument, detector, physical_filter}, ExposureF, isCalibration=True)\n",
      "DatasetType('gaia_dr2_20200414', {htm7}, SimpleCatalog)\n",
      "DatasetType('ps1_pv3_3pi_20170110', {htm7}, SimpleCatalog)\n",
      "DatasetType('raw', {band, instrument, detector, physical_filter, exposure}, Exposure)\n",
      "DatasetType('sky', {band, instrument, detector, physical_filter}, ExposureF, isCalibration=True)\n",
      "DatasetType('skyMap', {skymap}, SkyMap)\n",
      "DatasetType('transmission_atmosphere', {instrument}, TransmissionCurve, isCalibration=True)\n",
      "DatasetType('transmission_filter', {band, instrument, physical_filter}, TransmissionCurve, isCalibration=True)\n",
      "DatasetType('transmission_optics', {instrument}, TransmissionCurve, isCalibration=True)\n",
      "DatasetType('transmission_sensor', {instrument, detector}, TransmissionCurve, isCalibration=True)\n",
      "DatasetType('yBackground', {band, instrument, detector, physical_filter}, StrayLightData, isCalibration=True)\n",
      "DatasetType('gaia_dr3_20230707', {htm7}, SimpleCatalog)\n",
      "DatasetType('icSrc_schema', {}, SourceCatalog)\n",
      "DatasetType('packages', {}, Packages)\n",
      "DatasetType('skyCorr_config', {}, Config)\n",
      "DatasetType('isr_config', {}, Config)\n",
      "DatasetType('isolatedStarAssociation_config', {}, Config)\n",
      "DatasetType('characterizeImage_config', {}, Config)\n",
      "DatasetType('src_schema', {}, SourceCatalog)\n",
      "DatasetType('calibrate_config', {}, Config)\n",
      "DatasetType('writePreSourceTable_config', {}, Config)\n",
      "DatasetType('transformPreSourceTable_config', {}, Config)\n",
      "DatasetType('visitSummary_schema', {}, ExposureCatalog)\n",
      "DatasetType('consolidateVisitSummary_config', {}, Config)\n",
      "DatasetType('consolidatePreSourceTable_config', {}, Config)\n",
      "DatasetType('calexpBackground', {band, instrument, detector, physical_filter, visit_system, visit}, Background)\n",
      "DatasetType('calexp', {band, instrument, detector, physical_filter, visit_system, visit}, ExposureF)\n",
      "DatasetType('preSourceTable_visit', {band, instrument, physical_filter, visit_system, visit}, DataFrame)\n",
      "DatasetType('postISRCCD', {band, instrument, detector, physical_filter, exposure}, Exposure)\n",
      "DatasetType('icExpBackground', {band, instrument, detector, physical_filter, visit_system, visit}, Background)\n",
      "DatasetType('icSrc', {band, instrument, detector, physical_filter, visit_system, visit}, SourceCatalog)\n",
      "DatasetType('icExp', {band, instrument, detector, physical_filter, visit_system, visit}, ExposureF)\n",
      "DatasetType('src', {band, instrument, detector, physical_filter, visit_system, visit}, SourceCatalog)\n",
      "DatasetType('preSource', {band, instrument, detector, physical_filter, visit_system, visit}, DataFrame)\n",
      "DatasetType('preSourceTable', {band, instrument, detector, physical_filter, visit_system, visit}, DataFrame)\n",
      "DatasetType('skyCorr', {band, instrument, detector, physical_filter, visit_system, visit}, Background)\n",
      "DatasetType('calexpBackground_skyCorr_visit_mosaic', {band, instrument, physical_filter, visit_system, visit}, ImageF)\n",
      "DatasetType('calexp_skyCorr_visit_mosaic', {band, instrument, physical_filter, visit_system, visit}, ImageF)\n",
      "DatasetType('skyCorr_metadata', {band, instrument, physical_filter, visit_system, visit}, TaskMetadata)\n",
      "DatasetType('skyCorr_log', {band, instrument, physical_filter, visit_system, visit}, ButlerLogRecords)\n",
      "DatasetType('isr_metadata', {band, instrument, detector, physical_filter, exposure}, TaskMetadata)\n",
      "DatasetType('isr_log', {band, instrument, detector, physical_filter, exposure}, ButlerLogRecords)\n",
      "DatasetType('isolated_star_sources', {instrument, skymap, tract}, DataFrame)\n",
      "DatasetType('isolated_star_cat', {instrument, skymap, tract}, DataFrame)\n",
      "DatasetType('isolatedStarAssociation_metadata', {instrument, skymap, tract}, TaskMetadata)\n",
      "DatasetType('isolatedStarAssociation_log', {instrument, skymap, tract}, ButlerLogRecords)\n",
      "DatasetType('characterizeImage_metadata', {band, instrument, detector, physical_filter, visit_system, visit}, TaskMetadata)\n",
      "DatasetType('characterizeImage_log', {band, instrument, detector, physical_filter, visit_system, visit}, ButlerLogRecords)\n",
      "DatasetType('srcMatchFull', {band, instrument, detector, physical_filter, visit_system, visit}, Catalog)\n",
      "DatasetType('srcMatch', {band, instrument, detector, physical_filter, visit_system, visit}, Catalog)\n",
      "DatasetType('calibrate_metadata', {band, instrument, detector, physical_filter, visit_system, visit}, TaskMetadata)\n",
      "DatasetType('calibrate_log', {band, instrument, detector, physical_filter, visit_system, visit}, ButlerLogRecords)\n",
      "DatasetType('writePreSourceTable_metadata', {band, instrument, detector, physical_filter, visit_system, visit}, TaskMetadata)\n",
      "DatasetType('writePreSourceTable_log', {band, instrument, detector, physical_filter, visit_system, visit}, ButlerLogRecords)\n",
      "DatasetType('transformPreSourceTable_metadata', {band, instrument, detector, physical_filter, visit_system, visit}, TaskMetadata)\n",
      "DatasetType('transformPreSourceTable_log', {band, instrument, detector, physical_filter, visit_system, visit}, ButlerLogRecords)\n",
      "DatasetType('visitSummary', {band, instrument, physical_filter, visit_system, visit}, ExposureCatalog)\n",
      "DatasetType('consolidateVisitSummary_metadata', {band, instrument, physical_filter, visit_system, visit}, TaskMetadata)\n",
      "DatasetType('consolidateVisitSummary_log', {band, instrument, physical_filter, visit_system, visit}, ButlerLogRecords)\n",
      "DatasetType('consolidatePreSourceTable_metadata', {band, instrument, physical_filter, visit_system, visit}, TaskMetadata)\n",
      "DatasetType('consolidatePreSourceTable_log', {band, instrument, physical_filter, visit_system, visit}, ButlerLogRecords)\n",
      "======================= u/dagoret/fgcm ========================\n",
      "DatasetType('bfKernel', {instrument}, NumpyArray, isCalibration=True)\n",
      "DatasetType('bias', {instrument, detector}, ExposureF, isCalibration=True)\n",
      "DatasetType('brightObjectMask', {band, skymap, tract, patch}, ObjectMaskCatalog)\n",
      "DatasetType('camera', {instrument}, Camera, isCalibration=True)\n",
      "DatasetType('dark', {instrument, detector}, ExposureF, isCalibration=True)\n",
      "DatasetType('defects', {instrument, detector}, Defects, isCalibration=True)\n",
      "DatasetType('fgcmLookUpTable', {instrument}, Catalog)\n",
      "DatasetType('flat', {band, instrument, detector, physical_filter}, ExposureF, isCalibration=True)\n",
      "DatasetType('fringe', {band, instrument, detector, physical_filter}, ExposureF, isCalibration=True)\n",
      "DatasetType('gaia_dr2_20200414', {htm7}, SimpleCatalog)\n",
      "DatasetType('ps1_pv3_3pi_20170110', {htm7}, SimpleCatalog)\n",
      "DatasetType('raw', {band, instrument, detector, physical_filter, exposure}, Exposure)\n",
      "DatasetType('sky', {band, instrument, detector, physical_filter}, ExposureF, isCalibration=True)\n",
      "DatasetType('skyMap', {skymap}, SkyMap)\n",
      "DatasetType('transmission_atmosphere', {instrument}, TransmissionCurve, isCalibration=True)\n",
      "DatasetType('transmission_filter', {band, instrument, physical_filter}, TransmissionCurve, isCalibration=True)\n",
      "DatasetType('transmission_optics', {instrument}, TransmissionCurve, isCalibration=True)\n",
      "DatasetType('transmission_sensor', {instrument, detector}, TransmissionCurve, isCalibration=True)\n",
      "DatasetType('yBackground', {band, instrument, detector, physical_filter}, StrayLightData, isCalibration=True)\n",
      "DatasetType('gaia_dr3_20230707', {htm7}, SimpleCatalog)\n",
      "DatasetType('icSrc_schema', {}, SourceCatalog)\n",
      "DatasetType('packages', {}, Packages)\n",
      "DatasetType('skyCorr_config', {}, Config)\n",
      "DatasetType('isr_config', {}, Config)\n",
      "DatasetType('isolatedStarAssociation_config', {}, Config)\n",
      "DatasetType('characterizeImage_config', {}, Config)\n",
      "DatasetType('src_schema', {}, SourceCatalog)\n",
      "DatasetType('calibrate_config', {}, Config)\n",
      "DatasetType('writePreSourceTable_config', {}, Config)\n",
      "DatasetType('transformPreSourceTable_config', {}, Config)\n",
      "DatasetType('visitSummary_schema', {}, ExposureCatalog)\n",
      "DatasetType('consolidateVisitSummary_config', {}, Config)\n",
      "DatasetType('consolidatePreSourceTable_config', {}, Config)\n",
      "DatasetType('calexpBackground', {band, instrument, detector, physical_filter, visit_system, visit}, Background)\n",
      "DatasetType('calexp', {band, instrument, detector, physical_filter, visit_system, visit}, ExposureF)\n",
      "DatasetType('preSourceTable_visit', {band, instrument, physical_filter, visit_system, visit}, DataFrame)\n",
      "DatasetType('postISRCCD', {band, instrument, detector, physical_filter, exposure}, Exposure)\n",
      "DatasetType('icExpBackground', {band, instrument, detector, physical_filter, visit_system, visit}, Background)\n",
      "DatasetType('icSrc', {band, instrument, detector, physical_filter, visit_system, visit}, SourceCatalog)\n",
      "DatasetType('icExp', {band, instrument, detector, physical_filter, visit_system, visit}, ExposureF)\n",
      "DatasetType('src', {band, instrument, detector, physical_filter, visit_system, visit}, SourceCatalog)\n",
      "DatasetType('preSource', {band, instrument, detector, physical_filter, visit_system, visit}, DataFrame)\n",
      "DatasetType('preSourceTable', {band, instrument, detector, physical_filter, visit_system, visit}, DataFrame)\n",
      "DatasetType('skyCorr', {band, instrument, detector, physical_filter, visit_system, visit}, Background)\n",
      "DatasetType('calexpBackground_skyCorr_visit_mosaic', {band, instrument, physical_filter, visit_system, visit}, ImageF)\n",
      "DatasetType('calexp_skyCorr_visit_mosaic', {band, instrument, physical_filter, visit_system, visit}, ImageF)\n",
      "DatasetType('skyCorr_metadata', {band, instrument, physical_filter, visit_system, visit}, TaskMetadata)\n",
      "DatasetType('skyCorr_log', {band, instrument, physical_filter, visit_system, visit}, ButlerLogRecords)\n",
      "DatasetType('isr_metadata', {band, instrument, detector, physical_filter, exposure}, TaskMetadata)\n",
      "DatasetType('isr_log', {band, instrument, detector, physical_filter, exposure}, ButlerLogRecords)\n",
      "DatasetType('isolated_star_sources', {instrument, skymap, tract}, DataFrame)\n",
      "DatasetType('isolated_star_cat', {instrument, skymap, tract}, DataFrame)\n",
      "DatasetType('isolatedStarAssociation_metadata', {instrument, skymap, tract}, TaskMetadata)\n",
      "DatasetType('isolatedStarAssociation_log', {instrument, skymap, tract}, ButlerLogRecords)\n",
      "DatasetType('characterizeImage_metadata', {band, instrument, detector, physical_filter, visit_system, visit}, TaskMetadata)\n",
      "DatasetType('characterizeImage_log', {band, instrument, detector, physical_filter, visit_system, visit}, ButlerLogRecords)\n",
      "DatasetType('srcMatchFull', {band, instrument, detector, physical_filter, visit_system, visit}, Catalog)\n",
      "DatasetType('srcMatch', {band, instrument, detector, physical_filter, visit_system, visit}, Catalog)\n",
      "DatasetType('calibrate_metadata', {band, instrument, detector, physical_filter, visit_system, visit}, TaskMetadata)\n",
      "DatasetType('calibrate_log', {band, instrument, detector, physical_filter, visit_system, visit}, ButlerLogRecords)\n",
      "DatasetType('writePreSourceTable_metadata', {band, instrument, detector, physical_filter, visit_system, visit}, TaskMetadata)\n",
      "DatasetType('writePreSourceTable_log', {band, instrument, detector, physical_filter, visit_system, visit}, ButlerLogRecords)\n",
      "DatasetType('transformPreSourceTable_metadata', {band, instrument, detector, physical_filter, visit_system, visit}, TaskMetadata)\n",
      "DatasetType('transformPreSourceTable_log', {band, instrument, detector, physical_filter, visit_system, visit}, ButlerLogRecords)\n",
      "DatasetType('visitSummary', {band, instrument, physical_filter, visit_system, visit}, ExposureCatalog)\n",
      "DatasetType('consolidateVisitSummary_metadata', {band, instrument, physical_filter, visit_system, visit}, TaskMetadata)\n",
      "DatasetType('consolidateVisitSummary_log', {band, instrument, physical_filter, visit_system, visit}, ButlerLogRecords)\n",
      "DatasetType('consolidatePreSourceTable_metadata', {band, instrument, physical_filter, visit_system, visit}, TaskMetadata)\n",
      "DatasetType('consolidatePreSourceTable_log', {band, instrument, physical_filter, visit_system, visit}, ButlerLogRecords)\n",
      "DatasetType('fgcmFitCycle_config', {}, Config)\n",
      "DatasetType('fgcmOutputProducts_config', {}, Config)\n",
      "DatasetType('fgcmBuildFromIsolatedStars_config', {}, Config)\n",
      "DatasetType('fgcm_star_ids', {instrument}, ArrowAstropy)\n",
      "DatasetType('fgcmVisitCatalog', {instrument}, Catalog)\n",
      "DatasetType('fgcm_star_observations', {instrument}, ArrowAstropy)\n",
      "DatasetType('fgcm_reference_stars', {instrument}, ArrowAstropy)\n",
      "DatasetType('fgcmStandardStars4', {instrument}, SimpleCatalog)\n",
      "DatasetType('fgcmAtmosphereParameters4', {instrument}, Catalog)\n",
      "DatasetType('fgcmZeropoints4', {instrument}, Catalog)\n",
      "DatasetType('fgcmFlaggedStars2', {instrument}, Catalog)\n",
      "DatasetType('fgcmFlaggedStars0', {instrument}, Catalog)\n",
      "DatasetType('fgcmFitParameters0', {instrument}, Catalog)\n",
      "DatasetType('fgcmFitParameters3', {instrument}, Catalog)\n",
      "DatasetType('fgcmFitParameters4', {instrument}, Catalog)\n",
      "DatasetType('fgcmFitParameters1', {instrument}, Catalog)\n",
      "DatasetType('fgcmFlaggedStars1', {instrument}, Catalog)\n",
      "DatasetType('fgcmFitParameters2', {instrument}, Catalog)\n",
      "DatasetType('fgcmFlaggedStars3', {instrument}, Catalog)\n",
      "DatasetType('fgcmFlaggedStars4', {instrument}, Catalog)\n",
      "DatasetType('fgcmFitCycle_metadata', {instrument}, TaskMetadata)\n",
      "DatasetType('fgcmFitCycle_log', {instrument}, ButlerLogRecords)\n",
      "DatasetType('transmission_atmosphere_fgcm', {band, instrument, physical_filter, visit_system, visit}, TransmissionCurve)\n",
      "DatasetType('fgcmPhotoCalibCatalog', {band, instrument, physical_filter, visit_system, visit}, ExposureCatalog)\n",
      "DatasetType('fgcmOutputProducts_metadata', {instrument}, TaskMetadata)\n",
      "DatasetType('fgcmOutputProducts_log', {instrument}, ButlerLogRecords)\n",
      "DatasetType('fgcmBuildFromIsolatedStars_metadata', {instrument}, TaskMetadata)\n",
      "DatasetType('fgcmBuildFromIsolatedStars_log', {instrument}, ButlerLogRecords)\n",
      "======================= u/dagoret/gbdes ========================\n",
      "DatasetType('bfKernel', {instrument}, NumpyArray, isCalibration=True)\n",
      "DatasetType('bias', {instrument, detector}, ExposureF, isCalibration=True)\n",
      "DatasetType('brightObjectMask', {band, skymap, tract, patch}, ObjectMaskCatalog)\n",
      "DatasetType('camera', {instrument}, Camera, isCalibration=True)\n",
      "DatasetType('dark', {instrument, detector}, ExposureF, isCalibration=True)\n",
      "DatasetType('defects', {instrument, detector}, Defects, isCalibration=True)\n",
      "DatasetType('fgcmLookUpTable', {instrument}, Catalog)\n",
      "DatasetType('flat', {band, instrument, detector, physical_filter}, ExposureF, isCalibration=True)\n",
      "DatasetType('fringe', {band, instrument, detector, physical_filter}, ExposureF, isCalibration=True)\n",
      "DatasetType('gaia_dr2_20200414', {htm7}, SimpleCatalog)\n",
      "DatasetType('ps1_pv3_3pi_20170110', {htm7}, SimpleCatalog)\n",
      "DatasetType('raw', {band, instrument, detector, physical_filter, exposure}, Exposure)\n",
      "DatasetType('sky', {band, instrument, detector, physical_filter}, ExposureF, isCalibration=True)\n",
      "DatasetType('skyMap', {skymap}, SkyMap)\n",
      "DatasetType('transmission_atmosphere', {instrument}, TransmissionCurve, isCalibration=True)\n",
      "DatasetType('transmission_filter', {band, instrument, physical_filter}, TransmissionCurve, isCalibration=True)\n",
      "DatasetType('transmission_optics', {instrument}, TransmissionCurve, isCalibration=True)\n",
      "DatasetType('transmission_sensor', {instrument, detector}, TransmissionCurve, isCalibration=True)\n",
      "DatasetType('yBackground', {band, instrument, detector, physical_filter}, StrayLightData, isCalibration=True)\n",
      "DatasetType('gaia_dr3_20230707', {htm7}, SimpleCatalog)\n",
      "DatasetType('icSrc_schema', {}, SourceCatalog)\n",
      "DatasetType('packages', {}, Packages)\n",
      "DatasetType('skyCorr_config', {}, Config)\n",
      "DatasetType('isr_config', {}, Config)\n",
      "DatasetType('isolatedStarAssociation_config', {}, Config)\n",
      "DatasetType('characterizeImage_config', {}, Config)\n",
      "DatasetType('src_schema', {}, SourceCatalog)\n",
      "DatasetType('calibrate_config', {}, Config)\n",
      "DatasetType('writePreSourceTable_config', {}, Config)\n",
      "DatasetType('transformPreSourceTable_config', {}, Config)\n",
      "DatasetType('visitSummary_schema', {}, ExposureCatalog)\n",
      "DatasetType('consolidateVisitSummary_config', {}, Config)\n",
      "DatasetType('consolidatePreSourceTable_config', {}, Config)\n",
      "DatasetType('calexpBackground', {band, instrument, detector, physical_filter, visit_system, visit}, Background)\n",
      "DatasetType('calexp', {band, instrument, detector, physical_filter, visit_system, visit}, ExposureF)\n",
      "DatasetType('preSourceTable_visit', {band, instrument, physical_filter, visit_system, visit}, DataFrame)\n",
      "DatasetType('postISRCCD', {band, instrument, detector, physical_filter, exposure}, Exposure)\n",
      "DatasetType('icExpBackground', {band, instrument, detector, physical_filter, visit_system, visit}, Background)\n",
      "DatasetType('icSrc', {band, instrument, detector, physical_filter, visit_system, visit}, SourceCatalog)\n",
      "DatasetType('icExp', {band, instrument, detector, physical_filter, visit_system, visit}, ExposureF)\n",
      "DatasetType('src', {band, instrument, detector, physical_filter, visit_system, visit}, SourceCatalog)\n",
      "DatasetType('preSource', {band, instrument, detector, physical_filter, visit_system, visit}, DataFrame)\n",
      "DatasetType('preSourceTable', {band, instrument, detector, physical_filter, visit_system, visit}, DataFrame)\n",
      "DatasetType('skyCorr', {band, instrument, detector, physical_filter, visit_system, visit}, Background)\n",
      "DatasetType('calexpBackground_skyCorr_visit_mosaic', {band, instrument, physical_filter, visit_system, visit}, ImageF)\n",
      "DatasetType('calexp_skyCorr_visit_mosaic', {band, instrument, physical_filter, visit_system, visit}, ImageF)\n",
      "DatasetType('skyCorr_metadata', {band, instrument, physical_filter, visit_system, visit}, TaskMetadata)\n",
      "DatasetType('skyCorr_log', {band, instrument, physical_filter, visit_system, visit}, ButlerLogRecords)\n",
      "DatasetType('isr_metadata', {band, instrument, detector, physical_filter, exposure}, TaskMetadata)\n",
      "DatasetType('isr_log', {band, instrument, detector, physical_filter, exposure}, ButlerLogRecords)\n",
      "DatasetType('isolated_star_sources', {instrument, skymap, tract}, DataFrame)\n",
      "DatasetType('isolated_star_cat', {instrument, skymap, tract}, DataFrame)\n",
      "DatasetType('isolatedStarAssociation_metadata', {instrument, skymap, tract}, TaskMetadata)\n",
      "DatasetType('isolatedStarAssociation_log', {instrument, skymap, tract}, ButlerLogRecords)\n",
      "DatasetType('characterizeImage_metadata', {band, instrument, detector, physical_filter, visit_system, visit}, TaskMetadata)\n",
      "DatasetType('characterizeImage_log', {band, instrument, detector, physical_filter, visit_system, visit}, ButlerLogRecords)\n",
      "DatasetType('srcMatchFull', {band, instrument, detector, physical_filter, visit_system, visit}, Catalog)\n",
      "DatasetType('srcMatch', {band, instrument, detector, physical_filter, visit_system, visit}, Catalog)\n",
      "DatasetType('calibrate_metadata', {band, instrument, detector, physical_filter, visit_system, visit}, TaskMetadata)\n",
      "DatasetType('calibrate_log', {band, instrument, detector, physical_filter, visit_system, visit}, ButlerLogRecords)\n",
      "DatasetType('writePreSourceTable_metadata', {band, instrument, detector, physical_filter, visit_system, visit}, TaskMetadata)\n",
      "DatasetType('writePreSourceTable_log', {band, instrument, detector, physical_filter, visit_system, visit}, ButlerLogRecords)\n",
      "DatasetType('transformPreSourceTable_metadata', {band, instrument, detector, physical_filter, visit_system, visit}, TaskMetadata)\n",
      "DatasetType('transformPreSourceTable_log', {band, instrument, detector, physical_filter, visit_system, visit}, ButlerLogRecords)\n",
      "DatasetType('visitSummary', {band, instrument, physical_filter, visit_system, visit}, ExposureCatalog)\n",
      "DatasetType('consolidateVisitSummary_metadata', {band, instrument, physical_filter, visit_system, visit}, TaskMetadata)\n",
      "DatasetType('consolidateVisitSummary_log', {band, instrument, physical_filter, visit_system, visit}, ButlerLogRecords)\n",
      "DatasetType('consolidatePreSourceTable_metadata', {band, instrument, physical_filter, visit_system, visit}, TaskMetadata)\n",
      "DatasetType('consolidatePreSourceTable_log', {band, instrument, physical_filter, visit_system, visit}, ButlerLogRecords)\n",
      "DatasetType('gbdesAstrometricFit_config', {}, Config)\n",
      "DatasetType('gbdesAstrometricFitSkyWcsCatalog', {band, instrument, skymap, physical_filter, tract, visit_system, visit}, ExposureCatalog)\n",
      "DatasetType('gbdesAstrometricFit_starCatalog', {band, instrument, skymap, physical_filter, tract}, ArrowNumpyDict)\n",
      "DatasetType('gbdesAstrometricFit_fitStars', {band, instrument, skymap, physical_filter, tract}, ArrowNumpyDict)\n",
      "DatasetType('gbdesAstrometricFit_metadata', {band, instrument, skymap, physical_filter, tract}, TaskMetadata)\n",
      "DatasetType('gbdesAstrometricFit_log', {band, instrument, skymap, physical_filter, tract}, ButlerLogRecords)\n",
      "======================= u/dagoret/source_calibration ========================\n",
      "DatasetType('bfKernel', {instrument}, NumpyArray, isCalibration=True)\n",
      "DatasetType('bias', {instrument, detector}, ExposureF, isCalibration=True)\n",
      "DatasetType('brightObjectMask', {band, skymap, tract, patch}, ObjectMaskCatalog)\n",
      "DatasetType('camera', {instrument}, Camera, isCalibration=True)\n",
      "DatasetType('dark', {instrument, detector}, ExposureF, isCalibration=True)\n",
      "DatasetType('defects', {instrument, detector}, Defects, isCalibration=True)\n",
      "DatasetType('fgcmLookUpTable', {instrument}, Catalog)\n",
      "DatasetType('flat', {band, instrument, detector, physical_filter}, ExposureF, isCalibration=True)\n",
      "DatasetType('fringe', {band, instrument, detector, physical_filter}, ExposureF, isCalibration=True)\n",
      "DatasetType('gaia_dr2_20200414', {htm7}, SimpleCatalog)\n",
      "DatasetType('ps1_pv3_3pi_20170110', {htm7}, SimpleCatalog)\n",
      "DatasetType('raw', {band, instrument, detector, physical_filter, exposure}, Exposure)\n",
      "DatasetType('sky', {band, instrument, detector, physical_filter}, ExposureF, isCalibration=True)\n",
      "DatasetType('skyMap', {skymap}, SkyMap)\n",
      "DatasetType('transmission_atmosphere', {instrument}, TransmissionCurve, isCalibration=True)\n",
      "DatasetType('transmission_filter', {band, instrument, physical_filter}, TransmissionCurve, isCalibration=True)\n",
      "DatasetType('transmission_optics', {instrument}, TransmissionCurve, isCalibration=True)\n",
      "DatasetType('transmission_sensor', {instrument, detector}, TransmissionCurve, isCalibration=True)\n",
      "DatasetType('yBackground', {band, instrument, detector, physical_filter}, StrayLightData, isCalibration=True)\n",
      "DatasetType('gaia_dr3_20230707', {htm7}, SimpleCatalog)\n",
      "DatasetType('icSrc_schema', {}, SourceCatalog)\n",
      "DatasetType('packages', {}, Packages)\n",
      "DatasetType('skyCorr_config', {}, Config)\n",
      "DatasetType('isr_config', {}, Config)\n",
      "DatasetType('isolatedStarAssociation_config', {}, Config)\n",
      "DatasetType('characterizeImage_config', {}, Config)\n",
      "DatasetType('src_schema', {}, SourceCatalog)\n",
      "DatasetType('calibrate_config', {}, Config)\n",
      "DatasetType('writePreSourceTable_config', {}, Config)\n",
      "DatasetType('transformPreSourceTable_config', {}, Config)\n",
      "DatasetType('visitSummary_schema', {}, ExposureCatalog)\n",
      "DatasetType('consolidateVisitSummary_config', {}, Config)\n",
      "DatasetType('consolidatePreSourceTable_config', {}, Config)\n",
      "DatasetType('calexpBackground', {band, instrument, detector, physical_filter, visit_system, visit}, Background)\n",
      "DatasetType('calexp', {band, instrument, detector, physical_filter, visit_system, visit}, ExposureF)\n",
      "DatasetType('preSourceTable_visit', {band, instrument, physical_filter, visit_system, visit}, DataFrame)\n",
      "DatasetType('postISRCCD', {band, instrument, detector, physical_filter, exposure}, Exposure)\n",
      "DatasetType('icExpBackground', {band, instrument, detector, physical_filter, visit_system, visit}, Background)\n",
      "DatasetType('icSrc', {band, instrument, detector, physical_filter, visit_system, visit}, SourceCatalog)\n",
      "DatasetType('icExp', {band, instrument, detector, physical_filter, visit_system, visit}, ExposureF)\n",
      "DatasetType('src', {band, instrument, detector, physical_filter, visit_system, visit}, SourceCatalog)\n",
      "DatasetType('preSource', {band, instrument, detector, physical_filter, visit_system, visit}, DataFrame)\n",
      "DatasetType('preSourceTable', {band, instrument, detector, physical_filter, visit_system, visit}, DataFrame)\n",
      "DatasetType('skyCorr', {band, instrument, detector, physical_filter, visit_system, visit}, Background)\n",
      "DatasetType('calexpBackground_skyCorr_visit_mosaic', {band, instrument, physical_filter, visit_system, visit}, ImageF)\n",
      "DatasetType('calexp_skyCorr_visit_mosaic', {band, instrument, physical_filter, visit_system, visit}, ImageF)\n",
      "DatasetType('skyCorr_metadata', {band, instrument, physical_filter, visit_system, visit}, TaskMetadata)\n",
      "DatasetType('skyCorr_log', {band, instrument, physical_filter, visit_system, visit}, ButlerLogRecords)\n",
      "DatasetType('isr_metadata', {band, instrument, detector, physical_filter, exposure}, TaskMetadata)\n",
      "DatasetType('isr_log', {band, instrument, detector, physical_filter, exposure}, ButlerLogRecords)\n",
      "DatasetType('isolated_star_sources', {instrument, skymap, tract}, DataFrame)\n",
      "DatasetType('isolated_star_cat', {instrument, skymap, tract}, DataFrame)\n",
      "DatasetType('isolatedStarAssociation_metadata', {instrument, skymap, tract}, TaskMetadata)\n",
      "DatasetType('isolatedStarAssociation_log', {instrument, skymap, tract}, ButlerLogRecords)\n",
      "DatasetType('characterizeImage_metadata', {band, instrument, detector, physical_filter, visit_system, visit}, TaskMetadata)\n",
      "DatasetType('characterizeImage_log', {band, instrument, detector, physical_filter, visit_system, visit}, ButlerLogRecords)\n",
      "DatasetType('srcMatchFull', {band, instrument, detector, physical_filter, visit_system, visit}, Catalog)\n",
      "DatasetType('srcMatch', {band, instrument, detector, physical_filter, visit_system, visit}, Catalog)\n",
      "DatasetType('calibrate_metadata', {band, instrument, detector, physical_filter, visit_system, visit}, TaskMetadata)\n",
      "DatasetType('calibrate_log', {band, instrument, detector, physical_filter, visit_system, visit}, ButlerLogRecords)\n",
      "DatasetType('writePreSourceTable_metadata', {band, instrument, detector, physical_filter, visit_system, visit}, TaskMetadata)\n",
      "DatasetType('writePreSourceTable_log', {band, instrument, detector, physical_filter, visit_system, visit}, ButlerLogRecords)\n",
      "DatasetType('transformPreSourceTable_metadata', {band, instrument, detector, physical_filter, visit_system, visit}, TaskMetadata)\n",
      "DatasetType('transformPreSourceTable_log', {band, instrument, detector, physical_filter, visit_system, visit}, ButlerLogRecords)\n",
      "DatasetType('visitSummary', {band, instrument, physical_filter, visit_system, visit}, ExposureCatalog)\n",
      "DatasetType('consolidateVisitSummary_metadata', {band, instrument, physical_filter, visit_system, visit}, TaskMetadata)\n",
      "DatasetType('consolidateVisitSummary_log', {band, instrument, physical_filter, visit_system, visit}, ButlerLogRecords)\n",
      "DatasetType('consolidatePreSourceTable_metadata', {band, instrument, physical_filter, visit_system, visit}, TaskMetadata)\n",
      "DatasetType('consolidatePreSourceTable_log', {band, instrument, physical_filter, visit_system, visit}, ButlerLogRecords)\n",
      "DatasetType('fgcmFitCycle_config', {}, Config)\n",
      "DatasetType('fgcmOutputProducts_config', {}, Config)\n",
      "DatasetType('fgcmBuildFromIsolatedStars_config', {}, Config)\n",
      "DatasetType('fgcm_star_ids', {instrument}, ArrowAstropy)\n",
      "DatasetType('fgcmVisitCatalog', {instrument}, Catalog)\n",
      "DatasetType('fgcm_star_observations', {instrument}, ArrowAstropy)\n",
      "DatasetType('fgcm_reference_stars', {instrument}, ArrowAstropy)\n",
      "DatasetType('fgcmStandardStars4', {instrument}, SimpleCatalog)\n",
      "DatasetType('fgcmAtmosphereParameters4', {instrument}, Catalog)\n",
      "DatasetType('fgcmZeropoints4', {instrument}, Catalog)\n",
      "DatasetType('fgcmFlaggedStars2', {instrument}, Catalog)\n",
      "DatasetType('fgcmFlaggedStars0', {instrument}, Catalog)\n",
      "DatasetType('fgcmFitParameters0', {instrument}, Catalog)\n",
      "DatasetType('fgcmFitParameters3', {instrument}, Catalog)\n",
      "DatasetType('fgcmFitParameters4', {instrument}, Catalog)\n",
      "DatasetType('fgcmFitParameters1', {instrument}, Catalog)\n",
      "DatasetType('fgcmFlaggedStars1', {instrument}, Catalog)\n",
      "DatasetType('fgcmFitParameters2', {instrument}, Catalog)\n",
      "DatasetType('fgcmFlaggedStars3', {instrument}, Catalog)\n",
      "DatasetType('fgcmFlaggedStars4', {instrument}, Catalog)\n",
      "DatasetType('fgcmFitCycle_metadata', {instrument}, TaskMetadata)\n",
      "DatasetType('fgcmFitCycle_log', {instrument}, ButlerLogRecords)\n",
      "DatasetType('transmission_atmosphere_fgcm', {band, instrument, physical_filter, visit_system, visit}, TransmissionCurve)\n",
      "DatasetType('fgcmPhotoCalibCatalog', {band, instrument, physical_filter, visit_system, visit}, ExposureCatalog)\n",
      "DatasetType('fgcmOutputProducts_metadata', {instrument}, TaskMetadata)\n",
      "DatasetType('fgcmOutputProducts_log', {instrument}, ButlerLogRecords)\n",
      "DatasetType('fgcmBuildFromIsolatedStars_metadata', {instrument}, TaskMetadata)\n",
      "DatasetType('fgcmBuildFromIsolatedStars_log', {instrument}, ButlerLogRecords)\n",
      "DatasetType('gbdesAstrometricFit_config', {}, Config)\n",
      "DatasetType('gbdesAstrometricFitSkyWcsCatalog', {band, instrument, skymap, physical_filter, tract, visit_system, visit}, ExposureCatalog)\n",
      "DatasetType('gbdesAstrometricFit_starCatalog', {band, instrument, skymap, physical_filter, tract}, ArrowNumpyDict)\n",
      "DatasetType('gbdesAstrometricFit_fitStars', {band, instrument, skymap, physical_filter, tract}, ArrowNumpyDict)\n",
      "DatasetType('gbdesAstrometricFit_metadata', {band, instrument, skymap, physical_filter, tract}, TaskMetadata)\n",
      "DatasetType('gbdesAstrometricFit_log', {band, instrument, skymap, physical_filter, tract}, ButlerLogRecords)\n",
      "DatasetType('finalizeCharacterization_config', {}, Config)\n",
      "DatasetType('finalVisitSummary_schema', {}, ExposureCatalog)\n",
      "DatasetType('updateVisitSummary_config', {}, Config)\n",
      "DatasetType('writeRecalibratedSourceTable_config', {}, Config)\n",
      "DatasetType('transformSourceTable_config', {}, Config)\n",
      "DatasetType('consolidateSourceTable_config', {}, Config)\n",
      "DatasetType('makeCcdVisitTable_config', {}, Config)\n",
      "DatasetType('makeVisitTable_config', {}, Config)\n",
      "DatasetType('finalized_psf_ap_corr_catalog', {band, instrument, physical_filter, visit_system, visit}, ExposureCatalog)\n",
      "DatasetType('finalized_src_table', {band, instrument, physical_filter, visit_system, visit}, DataFrame)\n",
      "DatasetType('finalVisitSummary', {band, instrument, physical_filter, visit_system, visit}, ExposureCatalog)\n",
      "DatasetType('source', {band, instrument, detector, physical_filter, visit_system, visit}, DataFrame)\n",
      "DatasetType('sourceTable', {band, instrument, detector, physical_filter, visit_system, visit}, DataFrame)\n",
      "DatasetType('finalizeCharacterization_metadata', {band, instrument, physical_filter, visit_system, visit}, TaskMetadata)\n",
      "DatasetType('finalizeCharacterization_log', {band, instrument, physical_filter, visit_system, visit}, ButlerLogRecords)\n",
      "DatasetType('updateVisitSummary_metadata', {band, instrument, physical_filter, visit_system, visit}, TaskMetadata)\n",
      "DatasetType('updateVisitSummary_log', {band, instrument, physical_filter, visit_system, visit}, ButlerLogRecords)\n",
      "DatasetType('writeRecalibratedSourceTable_metadata', {band, instrument, skymap, detector, physical_filter, visit_system, visit}, TaskMetadata)\n",
      "DatasetType('writeRecalibratedSourceTable_log', {band, instrument, skymap, detector, physical_filter, visit_system, visit}, ButlerLogRecords)\n",
      "DatasetType('transformSourceTable_metadata', {band, instrument, detector, physical_filter, visit_system, visit}, TaskMetadata)\n",
      "DatasetType('transformSourceTable_log', {band, instrument, detector, physical_filter, visit_system, visit}, ButlerLogRecords)\n",
      "DatasetType('sourceTable_visit', {band, instrument, physical_filter, visit_system, visit}, DataFrame)\n",
      "DatasetType('consolidateSourceTable_metadata', {band, instrument, physical_filter, visit_system, visit}, TaskMetadata)\n",
      "DatasetType('consolidateSourceTable_log', {band, instrument, physical_filter, visit_system, visit}, ButlerLogRecords)\n",
      "DatasetType('ccdVisitTable', {instrument}, DataFrame)\n",
      "DatasetType('makeCcdVisitTable_metadata', {instrument}, TaskMetadata)\n",
      "DatasetType('makeCcdVisitTable_log', {instrument}, ButlerLogRecords)\n",
      "DatasetType('visitTable', {instrument}, DataFrame)\n",
      "DatasetType('makeVisitTable_metadata', {instrument}, TaskMetadata)\n",
      "DatasetType('makeVisitTable_log', {instrument}, ButlerLogRecords)\n"
     ]
    }
   ],
   "source": [
    "for collections in all_collections:\n",
    "    print(\"==================================\",collections,\"===========================================\")\n",
    "    for datasetType in registry.queryDatasetTypes():\n",
    "        if registry.queryDatasets(datasetType, collections=collections).any(execute=False, exact=False):\n",
    "            print(datasetType)\n",
    "          "
   ]
  },
  {
   "cell_type": "markdown",
   "id": "0f901b34-d381-4310-9e5f-ee26c8ed6b4a",
   "metadata": {},
   "source": [
    "## DataSets in Collections"
   ]
  },
  {
   "cell_type": "code",
   "execution_count": 34,
   "id": "7a865123-aa2b-4f4f-b56e-fa8b86f76959",
   "metadata": {
    "execution": {
     "iopub.execute_input": "2024-02-20T20:49:32.361439Z",
     "iopub.status.busy": "2024-02-20T20:49:32.361072Z",
     "iopub.status.idle": "2024-02-20T20:49:34.344386Z",
     "shell.execute_reply": "2024-02-20T20:49:34.343908Z",
     "shell.execute_reply.started": "2024-02-20T20:49:32.361425Z"
    }
   },
   "outputs": [
    {
     "name": "stdout",
     "output_type": "stream",
     "text": [
      "========================== u/dagoret/single_frame =============================\n",
      "========================== u/dagoret/fgcm =============================\n",
      "========================== u/dagoret/gbdes =============================\n",
      "\t ------------------------ gbdesAstrometricFit_starCatalog --------------------------------\n",
      "[] \n",
      "\n",
      "========================== u/dagoret/source_calibration =============================\n",
      "\t ------------------------ gbdesAstrometricFit_starCatalog --------------------------------\n",
      "[] \n",
      "\n"
     ]
    }
   ],
   "source": [
    "#dataset_selected_name = 'gaia_dr2_20200414'\n",
    "#dataset_selected_name = 'icSrc'\n",
    "#dataset_selected_name = 'ccdVisitTable'\n",
    "#dataset_selected_name = 'visitTable'\n",
    "#dataset_selected_name ='fgcmVisitCatalog'\n",
    "#dataset_selected_name = 'sourceTable'\n",
    "dataset_selected_name = 'gbdesAstrometricFit_starCatalog'\n",
    "  \n",
    "for collections in all_collections:\n",
    "\n",
    "    print(\"==========================\",collections,\"=============================\")\n",
    "    for datasetType in registry.queryDatasetTypes():\n",
    "        if registry.queryDatasets(datasetType, collections=collections).any(execute=False, exact=False):\n",
    "            if dataset_selected_name in datasetType.name:\n",
    "                refs = sorted(registry.queryDatasets(datasetType))\n",
    "                print(\"\\t ------------------------\",datasetType.name,\"--------------------------------\")\n",
    "                print(refs,\"\\n\")\n",
    "                "
   ]
  },
  {
   "cell_type": "code",
   "execution_count": 38,
   "id": "ccc64410-7886-4bf3-89a7-d56bc1049a3f",
   "metadata": {
    "execution": {
     "iopub.execute_input": "2024-02-20T20:51:40.390225Z",
     "iopub.status.busy": "2024-02-20T20:51:40.389942Z",
     "iopub.status.idle": "2024-02-20T20:51:40.397394Z",
     "shell.execute_reply": "2024-02-20T20:51:40.397068Z",
     "shell.execute_reply.started": "2024-02-20T20:51:40.390211Z"
    }
   },
   "outputs": [],
   "source": [
    "refs = sorted(registry.queryDatasets(\"sourceTable_visit\"))"
   ]
  },
  {
   "cell_type": "code",
   "execution_count": 20,
   "id": "f7e9ebba-a097-4bfa-9b79-82e32720321b",
   "metadata": {
    "execution": {
     "iopub.execute_input": "2024-02-20T20:21:38.351696Z",
     "iopub.status.busy": "2024-02-20T20:21:38.351255Z",
     "iopub.status.idle": "2024-02-20T20:21:38.354147Z",
     "shell.execute_reply": "2024-02-20T20:21:38.353837Z",
     "shell.execute_reply.started": "2024-02-20T20:21:38.351672Z"
    }
   },
   "outputs": [
    {
     "data": {
      "text/plain": [
       "'bfKernel'"
      ]
     },
     "execution_count": 20,
     "metadata": {},
     "output_type": "execute_result"
    }
   ],
   "source": [
    "datasetType.name"
   ]
  },
  {
   "cell_type": "markdown",
   "id": "6519bdbf-a9c7-4bb3-b9c1-c03e02177afa",
   "metadata": {
    "tags": []
   },
   "source": [
    "### Object tables\n",
    "\n",
    "The examples below use an object table"
   ]
  },
  {
   "cell_type": "code",
   "execution_count": 12,
   "id": "a86f7ad8-a6e2-4b0a-b593-eef02f9d8211",
   "metadata": {
    "execution": {
     "iopub.execute_input": "2024-02-20T20:00:55.359490Z",
     "iopub.status.busy": "2024-02-20T20:00:55.359323Z",
     "iopub.status.idle": "2024-02-20T20:00:55.362975Z",
     "shell.execute_reply": "2024-02-20T20:00:55.362551Z",
     "shell.execute_reply.started": "2024-02-20T20:00:55.359477Z"
    },
    "tags": []
   },
   "outputs": [
    {
     "name": "stdout",
     "output_type": "stream",
     "text": [
      "0\n"
     ]
    }
   ],
   "source": [
    "refs = sorted(registry.queryDatasets(\"objectTable_tract\"))\n",
    "print(len(refs))"
   ]
  },
  {
   "cell_type": "code",
   "execution_count": 13,
   "id": "00b4eb4b-9f19-4af2-b0d8-1d3a0ffed060",
   "metadata": {
    "execution": {
     "iopub.execute_input": "2024-02-20T20:00:55.363591Z",
     "iopub.status.busy": "2024-02-20T20:00:55.363461Z",
     "iopub.status.idle": "2024-02-20T20:00:55.544324Z",
     "shell.execute_reply": "2024-02-20T20:00:55.542769Z",
     "shell.execute_reply.started": "2024-02-20T20:00:55.363579Z"
    },
    "tags": []
   },
   "outputs": [
    {
     "ename": "IndexError",
     "evalue": "list index out of range",
     "output_type": "error",
     "traceback": [
      "\u001b[0;31m---------------------------------------------------------------------------\u001b[0m",
      "\u001b[0;31mIndexError\u001b[0m                                Traceback (most recent call last)",
      "Cell \u001b[0;32mIn[13], line 1\u001b[0m\n\u001b[0;32m----> 1\u001b[0m \u001b[43mrefs\u001b[49m\u001b[43m[\u001b[49m\u001b[38;5;241;43m0\u001b[39;49m\u001b[43m]\u001b[49m\u001b[38;5;241m.\u001b[39mdataId\n",
      "\u001b[0;31mIndexError\u001b[0m: list index out of range"
     ]
    }
   ],
   "source": [
    "refs[0].dataId"
   ]
  },
  {
   "cell_type": "code",
   "execution_count": null,
   "id": "7e2b7687-a351-4422-93c9-7b73c9bcbb9a",
   "metadata": {
    "execution": {
     "iopub.status.busy": "2024-02-20T20:00:55.544776Z",
     "iopub.status.idle": "2024-02-20T20:00:55.544952Z",
     "shell.execute_reply": "2024-02-20T20:00:55.544871Z",
     "shell.execute_reply.started": "2024-02-20T20:00:55.544863Z"
    },
    "tags": []
   },
   "outputs": [],
   "source": [
    "objectTable = butler.get(refs[0])\n",
    "objectTable"
   ]
  },
  {
   "cell_type": "code",
   "execution_count": null,
   "id": "ee6fe2b7-3446-4ee9-8f6a-177ea5a9bfcf",
   "metadata": {
    "execution": {
     "iopub.status.busy": "2024-02-20T20:00:55.545409Z",
     "iopub.status.idle": "2024-02-20T20:00:55.545563Z",
     "shell.execute_reply": "2024-02-20T20:00:55.545492Z",
     "shell.execute_reply.started": "2024-02-20T20:00:55.545485Z"
    },
    "tags": []
   },
   "outputs": [],
   "source": [
    "objectTable.columns.values"
   ]
  },
  {
   "cell_type": "markdown",
   "id": "cf1ea0e6-2412-4e8e-908c-57a77240e31d",
   "metadata": {
    "execution": {
     "iopub.execute_input": "2023-04-19T04:41:15.719044Z",
     "iopub.status.busy": "2023-04-19T04:41:15.718764Z",
     "iopub.status.idle": "2023-04-19T04:41:15.721677Z",
     "shell.execute_reply": "2023-04-19T04:41:15.721225Z",
     "shell.execute_reply.started": "2023-04-19T04:41:15.719027Z"
    }
   },
   "source": [
    "### Source tables"
   ]
  },
  {
   "cell_type": "code",
   "execution_count": 44,
   "id": "c7df9b9b-8985-4445-b5b3-e29190155a67",
   "metadata": {
    "execution": {
     "iopub.execute_input": "2024-02-20T20:53:48.361331Z",
     "iopub.status.busy": "2024-02-20T20:53:48.360818Z",
     "iopub.status.idle": "2024-02-20T20:53:48.419540Z",
     "shell.execute_reply": "2024-02-20T20:53:48.419159Z",
     "shell.execute_reply.started": "2024-02-20T20:53:48.361317Z"
    },
    "tags": []
   },
   "outputs": [],
   "source": [
    "#refs = sorted(registry.queryDatasets(\"sourceTable_visit\"))\n",
    "#refs = sorted(registry.queryDatasets(\"sourceTable\"))\n",
    "refs = sorted(registry.queryDatasets('preSourceTable'))"
   ]
  },
  {
   "cell_type": "code",
   "execution_count": 42,
   "id": "88711a61-bd88-4fa0-b970-c002f04f19d4",
   "metadata": {
    "execution": {
     "iopub.execute_input": "2024-02-20T20:52:35.339787Z",
     "iopub.status.busy": "2024-02-20T20:52:35.339576Z",
     "iopub.status.idle": "2024-02-20T20:52:35.342121Z",
     "shell.execute_reply": "2024-02-20T20:52:35.341768Z",
     "shell.execute_reply.started": "2024-02-20T20:52:35.339774Z"
    },
    "tags": []
   },
   "outputs": [],
   "source": [
    "for ref in refs: print(ref.dataId.full)"
   ]
  },
  {
   "cell_type": "code",
   "execution_count": null,
   "id": "9a8cc15d-a550-4d0f-9e88-80934df213f5",
   "metadata": {
    "execution": {
     "iopub.status.busy": "2024-02-20T20:00:55.547640Z",
     "iopub.status.idle": "2024-02-20T20:00:55.547829Z",
     "shell.execute_reply": "2024-02-20T20:00:55.547745Z",
     "shell.execute_reply.started": "2024-02-20T20:00:55.547738Z"
    },
    "tags": []
   },
   "outputs": [],
   "source": [
    "sourceTable = butler.get(refs[-1])\n",
    "sourceTable"
   ]
  },
  {
   "cell_type": "code",
   "execution_count": null,
   "id": "6eec9b9f-ac5a-4b0f-9c7f-449ac4e33bf1",
   "metadata": {
    "execution": {
     "iopub.status.busy": "2024-02-20T20:00:55.548303Z",
     "iopub.status.idle": "2024-02-20T20:00:55.548538Z",
     "shell.execute_reply": "2024-02-20T20:00:55.548382Z",
     "shell.execute_reply.started": "2024-02-20T20:00:55.548375Z"
    },
    "tags": []
   },
   "outputs": [],
   "source": [
    "sourceTable.columns.values"
   ]
  },
  {
   "cell_type": "markdown",
   "id": "3d4e07fc-a438-47b0-aadb-2af33ec3d516",
   "metadata": {
    "tags": []
   },
   "source": [
    "## Run `analysis_tools` interactively\n",
    "\n",
    "Run an `AnalysisTool` interactively in a notebook by passing in-memory data inputs to create metrics and diagnostic plots.\n",
    "\n",
    "In this example, we compute PSF model size residuals relative to the observed PSF size."
   ]
  },
  {
   "cell_type": "code",
   "execution_count": null,
   "id": "4c8b30ae-d864-42d9-9bb1-4866b7d25d81",
   "metadata": {
    "execution": {
     "iopub.status.busy": "2024-02-20T20:00:55.549237Z",
     "iopub.status.idle": "2024-02-20T20:00:55.549385Z",
     "shell.execute_reply": "2024-02-20T20:00:55.549316Z",
     "shell.execute_reply.started": "2024-02-20T20:00:55.549309Z"
    },
    "tags": []
   },
   "outputs": [],
   "source": [
    "from lsst.analysis.tools.atools import ShapeSizeFractionalDiff\n",
    "from lsst.analysis.tools.interfaces._task import _StandinPlotInfo\n",
    "from lsst.analysis.tools.interfaces import NoPlot"
   ]
  },
  {
   "cell_type": "code",
   "execution_count": null,
   "id": "e103cb45-932c-45b7-a39b-b921f12a0da5",
   "metadata": {
    "execution": {
     "iopub.status.busy": "2024-02-20T20:00:55.549915Z",
     "iopub.status.idle": "2024-02-20T20:00:55.550137Z",
     "shell.execute_reply": "2024-02-20T20:00:55.550064Z",
     "shell.execute_reply.started": "2024-02-20T20:00:55.550055Z"
    },
    "tags": []
   },
   "outputs": [],
   "source": [
    "atool = ShapeSizeFractionalDiff()\n",
    "atool.produce.plot.addSummaryPlot = False\n",
    "\n",
    "# Do not produce plot; only metric values\n",
    "#atool.produce.plot = NoPlot() \n",
    "\n",
    "# Apply the updated configuration\n",
    "atool.finalize()"
   ]
  },
  {
   "cell_type": "markdown",
   "id": "f89e188f-d418-46f4-8bfb-81cc89012662",
   "metadata": {
    "execution": {
     "iopub.execute_input": "2023-05-03T05:46:38.219181Z",
     "iopub.status.busy": "2023-05-03T05:46:38.218965Z",
     "iopub.status.idle": "2023-05-03T05:46:38.222496Z",
     "shell.execute_reply": "2023-05-03T05:46:38.221961Z",
     "shell.execute_reply.started": "2023-05-03T05:46:38.219165Z"
    },
    "tags": []
   },
   "source": [
    "Notice that the returned metric values match summary statistics displayed on the plot"
   ]
  },
  {
   "cell_type": "code",
   "execution_count": null,
   "id": "467a2791-9303-4520-a3f9-18547dff5da2",
   "metadata": {
    "execution": {
     "iopub.status.busy": "2024-02-20T20:00:55.550647Z",
     "iopub.status.idle": "2024-02-20T20:00:55.550869Z",
     "shell.execute_reply": "2024-02-20T20:00:55.550799Z",
     "shell.execute_reply.started": "2024-02-20T20:00:55.550792Z"
    },
    "tags": []
   },
   "outputs": [],
   "source": [
    "results = atool(objectTable, band='i', skymap=None, plotInfo=_StandinPlotInfo())\n",
    "results"
   ]
  },
  {
   "cell_type": "markdown",
   "id": "1909412c-2c20-4ab4-bd44-d60533313b43",
   "metadata": {
    "execution": {
     "iopub.execute_input": "2023-05-04T01:33:22.746626Z",
     "iopub.status.busy": "2023-05-04T01:33:22.746379Z",
     "iopub.status.idle": "2023-05-04T01:33:22.749197Z",
     "shell.execute_reply": "2023-05-04T01:33:22.748767Z",
     "shell.execute_reply.started": "2023-05-04T01:33:22.746610Z"
    },
    "tags": []
   },
   "source": [
    "## ConfigurableActions are the atomic bits of `analysis_tools`\n",
    "\n",
    "We introduce core concepts of the `analysis_tools` package, starting with the idea of [ConfigurableAction](https://pipelines.lsst.io/v/weekly/modules/lsst.pex.config/overview.html#specialized-config-subclasses)s, or actions for short."
   ]
  },
  {
   "cell_type": "markdown",
   "id": "f0962a7d-4ef8-4764-87bb-14fb4b736d86",
   "metadata": {},
   "source": [
    "### Terminology\n",
    "\n",
    "Data Types (many of the [actions in analysis_tools](https://github.com/lsst/analysis_tools/tree/main/python/lsst/analysis/tools/actions) are grouped according to the resultant data type)\n",
    "* `Scalar`: Something that is number like (int, float, numpy.float32 etc.)\n",
    "* `Vector`: Something that is ndarray like\n",
    "* `KeyedData`: Anything that is indexed by a string that can return a Vector, or Scalar\n",
    "\n",
    "Analysis Structures\n",
    "* `ConfigurableAction`: generic interface for function-like objects (actions) that have state which can be set during configuration\n",
    "* `AnalysisAction`: A ConfigurableAction subclass that is specialized for actions that function in analysis contexts\n",
    "* `AnalysisTool`: A top level \"container\" of multiple AnalysisActions which performs one type of analysis\n",
    "\n",
    "We dive into the later two in more detail below"
   ]
  },
  {
   "cell_type": "markdown",
   "id": "ca962680-ff78-4782-a373-f121c8a97b34",
   "metadata": {},
   "source": [
    "### Using AnalysisActions\n",
    "\n",
    "- Configurable `AnalysisActions` are the atomic bits of `analysis_tools`. They can be combined together to make more complex actions, or used as part of an AnalysisTool\n",
    "- We show some examples of using configurable actions like standalone functions to provide intution for how configurable actions work.\n",
    "- Show examples with KeyedDataActions, VectorActions (including selectors), and ScalarActions\n",
    "- Show examples of configuration"
   ]
  },
  {
   "cell_type": "markdown",
   "id": "e6a8dbc4-be1e-4f1a-92fe-03b289ae361b",
   "metadata": {},
   "source": [
    "Let's use actions to compute the measured PSF size for a set of stars from an object catalog."
   ]
  },
  {
   "cell_type": "code",
   "execution_count": null,
   "id": "d35c8e85-b8b3-4cd1-9d3f-08791afc01e5",
   "metadata": {
    "execution": {
     "iopub.status.busy": "2024-02-20T20:00:55.551222Z",
     "iopub.status.idle": "2024-02-20T20:00:55.551366Z",
     "shell.execute_reply": "2024-02-20T20:00:55.551298Z",
     "shell.execute_reply.started": "2024-02-20T20:00:55.551291Z"
    },
    "tags": []
   },
   "outputs": [],
   "source": [
    "from lsst.analysis.tools.actions.vector import CalcMomentSize, ConvertFluxToMag"
   ]
  },
  {
   "cell_type": "code",
   "execution_count": null,
   "id": "9bba4288-5612-4add-8c90-6134a814da02",
   "metadata": {
    "execution": {
     "iopub.status.busy": "2024-02-20T20:00:55.551916Z",
     "iopub.status.idle": "2024-02-20T20:00:55.552061Z",
     "shell.execute_reply": "2024-02-20T20:00:55.551993Z",
     "shell.execute_reply.started": "2024-02-20T20:00:55.551987Z"
    },
    "tags": []
   },
   "outputs": [],
   "source": [
    "sizeCalculator = CalcMomentSize()"
   ]
  },
  {
   "cell_type": "code",
   "execution_count": null,
   "id": "df3f4c5a-178e-461c-a123-37c73d3166e5",
   "metadata": {
    "execution": {
     "iopub.status.busy": "2024-02-20T20:00:55.552468Z",
     "iopub.status.idle": "2024-02-20T20:00:55.552610Z",
     "shell.execute_reply": "2024-02-20T20:00:55.552543Z",
     "shell.execute_reply.started": "2024-02-20T20:00:55.552537Z"
    },
    "tags": []
   },
   "outputs": [],
   "source": [
    "# Inspect the configuration of this object.\n",
    "pprint(sizeCalculator.toDict())"
   ]
  },
  {
   "cell_type": "code",
   "execution_count": null,
   "id": "529f9254-c983-4c15-889f-e37ae3959d69",
   "metadata": {
    "execution": {
     "iopub.status.busy": "2024-02-20T20:00:55.553034Z",
     "iopub.status.idle": "2024-02-20T20:00:55.553223Z",
     "shell.execute_reply": "2024-02-20T20:00:55.553152Z",
     "shell.execute_reply.started": "2024-02-20T20:00:55.553145Z"
    },
    "tags": []
   },
   "outputs": [],
   "source": [
    "# Inspect the required input schema, notice that we will need to provide the band information\n",
    "sizeCalculator.getInputSchema()"
   ]
  },
  {
   "cell_type": "code",
   "execution_count": null,
   "id": "bcac39ad-74a3-4aae-b183-58158569cbb6",
   "metadata": {
    "execution": {
     "iopub.status.busy": "2024-02-20T20:00:55.553722Z",
     "iopub.status.idle": "2024-02-20T20:00:55.553868Z",
     "shell.execute_reply": "2024-02-20T20:00:55.553801Z",
     "shell.execute_reply.started": "2024-02-20T20:00:55.553795Z"
    },
    "tags": []
   },
   "outputs": [],
   "source": [
    "size = sizeCalculator(objectTable, band='i')\n",
    "print(size)"
   ]
  },
  {
   "cell_type": "markdown",
   "id": "9a2e3e59-105e-4a28-b3d6-648c93b7f079",
   "metadata": {},
   "source": [
    "In the next example, we show how to configure an action"
   ]
  },
  {
   "cell_type": "code",
   "execution_count": null,
   "id": "4162b9cc-3b9c-404b-94d3-d46ffb443989",
   "metadata": {
    "execution": {
     "iopub.status.busy": "2024-02-20T20:00:55.554305Z",
     "iopub.status.idle": "2024-02-20T20:00:55.554452Z",
     "shell.execute_reply": "2024-02-20T20:00:55.554383Z",
     "shell.execute_reply.started": "2024-02-20T20:00:55.554376Z"
    },
    "tags": []
   },
   "outputs": [],
   "source": [
    "# Another example, this time to convert fluxes to magnitudes\n",
    "magConverter = ConvertFluxToMag()\n",
    "magConverter.vectorKey='{band}_psfFlux'\n",
    "mag = magConverter(objectTable, band='i')\n",
    "\n",
    "# Notice that the lines above is equiavalent to the following\n",
    "magConverterAlternate = ConvertFluxToMag()\n",
    "magConverterAlternate.vectorKey='i_psfFlux'\n",
    "magAlternate = magConverterAlternate(objectTable)\n",
    "\n",
    "# Confirm the results match\n",
    "assert np.allclose(mag, magAlternate, equal_nan=True)"
   ]
  },
  {
   "cell_type": "markdown",
   "id": "45c1ab2a-1c19-4389-99c7-98a3b3ef9c3a",
   "metadata": {},
   "source": [
    "It is also possible set configuration of an action during initialization"
   ]
  },
  {
   "cell_type": "code",
   "execution_count": null,
   "id": "0cdfc76a-ba4f-4ba3-a5fe-73bca0a2b405",
   "metadata": {
    "execution": {
     "iopub.status.busy": "2024-02-20T20:00:55.555166Z",
     "iopub.status.idle": "2024-02-20T20:00:55.555382Z",
     "shell.execute_reply": "2024-02-20T20:00:55.555313Z",
     "shell.execute_reply.started": "2024-02-20T20:00:55.555306Z"
    },
    "tags": []
   },
   "outputs": [],
   "source": [
    "magConverterAlternate = ConvertFluxToMag(vectorKey='{band}_psfFlux')\n",
    "\n",
    "assert np.allclose(\n",
    "    magConverter(objectTable, band='i'), \n",
    "    magConverterAlternate(objectTable, band='i'), \n",
    "    equal_nan=True\n",
    ")"
   ]
  },
  {
   "cell_type": "markdown",
   "id": "82f0d329-e27d-40dc-ae70-b070261db8a6",
   "metadata": {},
   "source": [
    "Now make a plot"
   ]
  },
  {
   "cell_type": "code",
   "execution_count": null,
   "id": "6c22da3d-56af-40e8-ae23-26ed4c50cb5b",
   "metadata": {
    "execution": {
     "iopub.status.busy": "2024-02-20T20:00:55.555843Z",
     "iopub.status.idle": "2024-02-20T20:00:55.556033Z",
     "shell.execute_reply": "2024-02-20T20:00:55.555963Z",
     "shell.execute_reply.started": "2024-02-20T20:00:55.555956Z"
    },
    "tags": []
   },
   "outputs": [],
   "source": [
    "plt.figure()\n",
    "plt.scatter(mag, size, s=1)\n",
    "plt.xlim(17.5, 30.)\n",
    "plt.ylim(0, 5)\n",
    "plt.xlabel('mag')\n",
    "plt.ylabel('size')"
   ]
  },
  {
   "cell_type": "markdown",
   "id": "3812c7a4-7286-4b79-aa99-78597f71ff48",
   "metadata": {
    "execution": {
     "iopub.execute_input": "2023-05-04T01:38:05.230530Z",
     "iopub.status.busy": "2023-05-04T01:38:05.230271Z",
     "iopub.status.idle": "2023-05-04T01:38:05.233651Z",
     "shell.execute_reply": "2023-05-04T01:38:05.233123Z",
     "shell.execute_reply.started": "2023-05-04T01:38:05.230511Z"
    },
    "tags": []
   },
   "source": [
    "Let's remake that simple plot now selecting only the stars"
   ]
  },
  {
   "cell_type": "code",
   "execution_count": null,
   "id": "d119d2cc-546b-4ef7-a870-ec815ee3e0ab",
   "metadata": {
    "execution": {
     "iopub.status.busy": "2024-02-20T20:00:55.556443Z",
     "iopub.status.idle": "2024-02-20T20:00:55.556587Z",
     "shell.execute_reply": "2024-02-20T20:00:55.556519Z",
     "shell.execute_reply.started": "2024-02-20T20:00:55.556513Z"
    },
    "tags": []
   },
   "outputs": [],
   "source": [
    "from lsst.analysis.tools.actions.vector import StarSelector"
   ]
  },
  {
   "cell_type": "code",
   "execution_count": null,
   "id": "931d898f-3187-4c5f-a51a-1f19c31315bd",
   "metadata": {
    "execution": {
     "iopub.status.busy": "2024-02-20T20:00:55.557063Z",
     "iopub.status.idle": "2024-02-20T20:00:55.557281Z",
     "shell.execute_reply": "2024-02-20T20:00:55.557211Z",
     "shell.execute_reply.started": "2024-02-20T20:00:55.557204Z"
    },
    "tags": []
   },
   "outputs": [],
   "source": [
    "starSelection = StarSelector()(objectTable, band='i')"
   ]
  },
  {
   "cell_type": "code",
   "execution_count": null,
   "id": "1a3fb2e0-6ce3-411a-9ba5-8c3646c38693",
   "metadata": {
    "execution": {
     "iopub.status.busy": "2024-02-20T20:00:55.557806Z",
     "iopub.status.idle": "2024-02-20T20:00:55.557954Z",
     "shell.execute_reply": "2024-02-20T20:00:55.557885Z",
     "shell.execute_reply.started": "2024-02-20T20:00:55.557878Z"
    },
    "tags": []
   },
   "outputs": [],
   "source": [
    "plt.figure()\n",
    "plt.scatter(mag[starSelection], size.values[starSelection], s=1)\n",
    "plt.xlim(17.5, 30.)\n",
    "plt.ylim(0, 5)\n",
    "plt.xlabel('mag')\n",
    "plt.ylabel('size')"
   ]
  },
  {
   "cell_type": "markdown",
   "id": "486e2060-3d75-4b9f-af13-6938b3e1ce8e",
   "metadata": {},
   "source": [
    "We can chain together `AnalysisAction`s, as in the following example that produces an equivalent plot. The `analysis_tools` package frequently uses this approach of chaining together `AnalysisAction`s."
   ]
  },
  {
   "cell_type": "code",
   "execution_count": null,
   "id": "ed62e569-c759-4f4b-b6e5-b5981c86349a",
   "metadata": {
    "execution": {
     "iopub.status.busy": "2024-02-20T20:00:55.558367Z",
     "iopub.status.idle": "2024-02-20T20:00:55.558519Z",
     "shell.execute_reply": "2024-02-20T20:00:55.558445Z",
     "shell.execute_reply.started": "2024-02-20T20:00:55.558438Z"
    }
   },
   "outputs": [],
   "source": [
    "type(objectTable)"
   ]
  },
  {
   "cell_type": "code",
   "execution_count": null,
   "id": "3b1c5fe7-421b-40af-8821-fb85f3d2c018",
   "metadata": {
    "execution": {
     "iopub.status.busy": "2024-02-20T20:00:55.559050Z",
     "iopub.status.idle": "2024-02-20T20:00:55.559194Z",
     "shell.execute_reply": "2024-02-20T20:00:55.559125Z",
     "shell.execute_reply.started": "2024-02-20T20:00:55.559118Z"
    },
    "tags": []
   },
   "outputs": [],
   "source": [
    "from lsst.analysis.tools.actions.vector import DownselectVector\n",
    "from lsst.analysis.tools.actions.keyedData import AddComputedVector\n",
    "\n",
    "band = \"i\"\n",
    "\n",
    "# Add a new key that points to a vector of \"size\" values\n",
    "objectTableDemo = AddComputedVector(action=CalcMomentSize, keyName=\"size\")(objectTable, band=band)\n",
    "\n",
    "# Note type(objectTable) is now a python dictionary instead of a pandas table, but since both\n",
    "# \"quack\" like KeyedData they can be used interchangably\n",
    "\n",
    "# Add a new key that points to a vector of \"mag\" values\n",
    "objectTableDemo = AddComputedVector(\n",
    "    action=ConvertFluxToMag(\n",
    "        vectorKey='{band}_psfFlux'\n",
    "    ),\n",
    "    keyName=\"mag\"\n",
    ")(objectTableDemo, band=band)\n",
    "\n",
    "# Example of a more explicit syntax\n",
    "downselector = DownselectVector()\n",
    "downselector.vectorKey = \"size\"\n",
    "downselector.selector = StarSelector\n",
    "size = downselector(objectTableDemo, band=band)\n",
    "\n",
    "# Example of a more compact syntax\n",
    "mag = DownselectVector(vectorKey=\"mag\", selector=StarSelector)(objectTableDemo, band=band)\n",
    "\n",
    "plt.figure()\n",
    "plt.scatter(mag, size, s=1)\n",
    "plt.xlim(17.5, 30.)\n",
    "plt.ylim(0, 5)\n",
    "plt.xlabel('mag')\n",
    "plt.ylabel('size')"
   ]
  },
  {
   "cell_type": "code",
   "execution_count": null,
   "id": "f17bf42b-7612-4511-a348-76230a91f974",
   "metadata": {
    "execution": {
     "iopub.status.busy": "2024-02-20T20:00:55.559768Z",
     "iopub.status.idle": "2024-02-20T20:00:55.560049Z",
     "shell.execute_reply": "2024-02-20T20:00:55.559973Z",
     "shell.execute_reply.started": "2024-02-20T20:00:55.559965Z"
    }
   },
   "outputs": [],
   "source": [
    "list(objectTableDemo.keys())[-5:]"
   ]
  },
  {
   "cell_type": "markdown",
   "id": "e072acd2-7460-4912-8eee-d1adeadbe9e4",
   "metadata": {},
   "source": [
    "### Actions as a generic interface for data\n",
    "Actions are not restricted to tables or products loaded from the butler, `KeyedData` could also be things like dictionaries of numpy arrays."
   ]
  },
  {
   "cell_type": "code",
   "execution_count": null,
   "id": "c1f9865c-9c9e-4e68-9840-e63f4fd5431b",
   "metadata": {
    "execution": {
     "iopub.status.busy": "2024-02-20T20:00:55.560474Z",
     "iopub.status.idle": "2024-02-20T20:00:55.560623Z",
     "shell.execute_reply": "2024-02-20T20:00:55.560553Z",
     "shell.execute_reply.started": "2024-02-20T20:00:55.560547Z"
    },
    "tags": []
   },
   "outputs": [],
   "source": [
    "import lsst.analysis.tools.actions\n",
    "dir(lsst.analysis.tools.actions)"
   ]
  },
  {
   "cell_type": "code",
   "execution_count": null,
   "id": "96c7a7b9-86c1-4fe5-94b3-e508aabc6e31",
   "metadata": {
    "execution": {
     "iopub.status.busy": "2024-02-20T20:00:55.561130Z",
     "iopub.status.idle": "2024-02-20T20:00:55.561319Z",
     "shell.execute_reply": "2024-02-20T20:00:55.561250Z",
     "shell.execute_reply.started": "2024-02-20T20:00:55.561243Z"
    },
    "tags": []
   },
   "outputs": [],
   "source": [
    "from lsst.analysis.tools.actions.scalar import StdevAction\n",
    "\n",
    "# create some KeyedData\n",
    "data = {\"randomData\": np.random.normal(0, 3, 10000)}\n",
    "\n",
    "# initialize an action, setting it to use the key set above\n",
    "action = StdevAction(vectorKey=\"randomData\")\n",
    "\n",
    "#plt.figure()\n",
    "#plt.hist(data[\"randomData\"], bins=100, density=True)\n",
    "\n",
    "# Run the action and print the results\n",
    "print(f\"The standard deviation is {action(data)}\")"
   ]
  },
  {
   "cell_type": "markdown",
   "id": "02d7771c-1d12-42f5-b439-273fce21683f",
   "metadata": {
    "execution": {
     "iopub.execute_input": "2023-05-04T05:19:13.011552Z",
     "iopub.status.busy": "2023-05-04T05:19:13.010913Z",
     "iopub.status.idle": "2023-05-04T05:19:13.013826Z",
     "shell.execute_reply": "2023-05-04T05:19:13.013369Z",
     "shell.execute_reply.started": "2023-05-04T05:19:13.011530Z"
    },
    "tags": []
   },
   "source": [
    "### Create a new action\n",
    "\n",
    "In the example below, we define a new VectorAction to multiply a vector by a scalar."
   ]
  },
  {
   "cell_type": "code",
   "execution_count": null,
   "id": "f6ee1f7b-e2b3-4c1d-b5c8-a0d409dbeff5",
   "metadata": {
    "execution": {
     "iopub.status.busy": "2024-02-20T20:00:55.561812Z",
     "iopub.status.idle": "2024-02-20T20:00:55.561963Z",
     "shell.execute_reply": "2024-02-20T20:00:55.561893Z",
     "shell.execute_reply.started": "2024-02-20T20:00:55.561886Z"
    },
    "tags": []
   },
   "outputs": [],
   "source": [
    "from lsst.analysis.tools.interfaces import VectorAction, KeyedData, KeyedDataSchema, Vector\n",
    "from lsst.pex.config import Field\n",
    "#rom lsstinterfaces import KeyedData, KeyedDataSchema\n",
    "\n",
    "class MultiplyByScalar(VectorAction):\n",
    "    \"\"\"Multiply vector by a scalar value\"\"\"\n",
    "\n",
    "    vectorKey = Field[str](doc=\"Key of vector which should be loaded\")\n",
    "    factor = Field[float](doc=\"Multiplicative factor\", default=1.)\n",
    "\n",
    "    def getInputSchema(self) -> KeyedDataSchema:\n",
    "        return ((self.vectorKey, Vector),)\n",
    "\n",
    "    def __call__(self, data: KeyedData, **kwargs) -> Vector:\n",
    "        return np.array(self.factor * data[self.vectorKey.format(**kwargs)])"
   ]
  },
  {
   "cell_type": "code",
   "execution_count": null,
   "id": "8b822cc7-8e40-4538-be49-84078187fbe0",
   "metadata": {
    "execution": {
     "iopub.status.busy": "2024-02-20T20:00:55.562401Z",
     "iopub.status.idle": "2024-02-20T20:00:55.562544Z",
     "shell.execute_reply": "2024-02-20T20:00:55.562477Z",
     "shell.execute_reply.started": "2024-02-20T20:00:55.562471Z"
    },
    "tags": []
   },
   "outputs": [],
   "source": [
    "action = MultiplyByScalar(vectorKey=\"randomData\", factor=2.)\n",
    "results = action(data)\n",
    "assert np.allclose(results, 2. * data['randomData'])"
   ]
  },
  {
   "cell_type": "markdown",
   "id": "166efc57-922d-41bf-a219-398717d1f576",
   "metadata": {},
   "source": [
    "### Three conceptual steps in an `AnalysisTool`: prep, process, produce\n",
    "\n",
    "As mentioned AnalysisTools can be thought of as executable containers of AnalysisActions. There are three different AnalysisActions, referred to as stages, named prep, process, and produce.\n",
    "* Prep: Responsible for any initial selection and filtering of data\n",
    "* Process: This is where any transformations and/or calculations are made\n",
    "* Produce: Generates final plot and/or metric objects\n",
    "\n",
    "The following examples will:\n",
    "* Walk through the three stages of running an analysis tool in sequential lines of code, passing the output of one step as input to the next step\n",
    "* Examine intermediate results"
   ]
  },
  {
   "cell_type": "code",
   "execution_count": null,
   "id": "0de63587-5da9-4263-975d-13d29597f963",
   "metadata": {
    "execution": {
     "iopub.status.busy": "2024-02-20T20:00:55.563036Z",
     "iopub.status.idle": "2024-02-20T20:00:55.563181Z",
     "shell.execute_reply": "2024-02-20T20:00:55.563110Z",
     "shell.execute_reply.started": "2024-02-20T20:00:55.563104Z"
    },
    "tags": []
   },
   "outputs": [],
   "source": [
    "prepResults = atool.prep(objectTable, band='i')\n",
    "processResults = atool.process(prepResults, band='i')\n",
    "produceResults = atool.produce(processResults, band='i', skymap=None, plotInfo=_StandinPlotInfo())"
   ]
  },
  {
   "cell_type": "markdown",
   "id": "40c20ca1-0cdd-478a-82de-e62d6784ed5e",
   "metadata": {},
   "source": [
    "Inspect the intermediate results"
   ]
  },
  {
   "cell_type": "code",
   "execution_count": null,
   "id": "a58b7c8c-43db-4950-9f3d-92e57fdaddc3",
   "metadata": {
    "execution": {
     "iopub.status.busy": "2024-02-20T20:00:55.563789Z",
     "iopub.status.idle": "2024-02-20T20:00:55.564000Z",
     "shell.execute_reply": "2024-02-20T20:00:55.563931Z",
     "shell.execute_reply.started": "2024-02-20T20:00:55.563924Z"
    },
    "tags": []
   },
   "outputs": [],
   "source": [
    "prepResults"
   ]
  },
  {
   "cell_type": "code",
   "execution_count": null,
   "id": "1d1f8767-927b-480e-a53f-c27de41d8949",
   "metadata": {
    "execution": {
     "iopub.status.busy": "2024-02-20T20:00:55.564385Z",
     "iopub.status.idle": "2024-02-20T20:00:55.564525Z",
     "shell.execute_reply": "2024-02-20T20:00:55.564459Z",
     "shell.execute_reply.started": "2024-02-20T20:00:55.564453Z"
    },
    "tags": []
   },
   "outputs": [],
   "source": [
    "processResults"
   ]
  },
  {
   "cell_type": "markdown",
   "id": "aa126f70-ba67-4d41-a86f-2534f66be0bf",
   "metadata": {
    "execution": {
     "iopub.execute_input": "2023-05-04T01:51:31.319631Z",
     "iopub.status.busy": "2023-05-04T01:51:31.319043Z",
     "iopub.status.idle": "2023-05-04T01:51:31.321813Z",
     "shell.execute_reply": "2023-05-04T01:51:31.321442Z",
     "shell.execute_reply.started": "2023-05-04T01:51:31.319614Z"
    },
    "tags": []
   },
   "source": [
    "## Workflow examples"
   ]
  },
  {
   "cell_type": "markdown",
   "id": "f7c90e82-a6e3-4948-9deb-c22e9f17a8a2",
   "metadata": {},
   "source": [
    "### Running analysis_tools as part of a pipeline\n",
    "\n",
    "* **All examples in this notebook should use the simple pipeline executor** (here is how you do it in a notebook)\n",
    "* We have a PipelineTask for each data product. A task can run multiple AnalysisTools that each produce a set of plots or set of metrics and are subclasses of AnalysisPipelineTask.\n",
    "* Discuss an example yaml pipeline file (load the yaml)\n",
    "* Provide the command to run the pipeline\n",
    "* Show how to configure the pipeline, e.g., turning on or off different metrics and plots or changing other parameters"
   ]
  },
  {
   "cell_type": "markdown",
   "id": "034775fb-763c-4c19-a414-8bbbff46167d",
   "metadata": {},
   "source": [
    "**WARNING:** If you are using your own processed instance of rc_subset, run the following cells to run analysis_tools as part of a pipeline from the notebook. If you are pointing to a shared sandbox instance of rc2_subset, skip the remaining cells in this section."
   ]
  },
  {
   "cell_type": "code",
   "execution_count": null,
   "id": "880cf28c-a31f-4eee-ab96-98ddc16571ed",
   "metadata": {
    "execution": {
     "iopub.status.busy": "2024-02-20T20:00:55.564990Z",
     "iopub.status.idle": "2024-02-20T20:00:55.565255Z",
     "shell.execute_reply": "2024-02-20T20:00:55.565185Z",
     "shell.execute_reply.started": "2024-02-20T20:00:55.565177Z"
    }
   },
   "outputs": [],
   "source": [
    "SANDBOX_REPO"
   ]
  },
  {
   "cell_type": "code",
   "execution_count": null,
   "id": "f8e697f5-7b3f-4d2e-a160-6fb065823ba3",
   "metadata": {
    "execution": {
     "iopub.status.busy": "2024-02-20T20:00:55.565713Z",
     "iopub.status.idle": "2024-02-20T20:00:55.565865Z",
     "shell.execute_reply": "2024-02-20T20:00:55.565795Z",
     "shell.execute_reply.started": "2024-02-20T20:00:55.565789Z"
    },
    "tags": []
   },
   "outputs": [],
   "source": [
    "if not SANDBOX_REPO:\n",
    "    from lsst.ctrl.mpexec import SimplePipelineExecutor\n",
    "    from lsst.pipe.base import Pipeline\n",
    "\n",
    "    # set up an output collection with your username\n",
    "    analysisToolsCollection = \"u/%s/analysisToolsExample\"%os.environ['USER']\n",
    "\n",
    "    # this can be skipped if you already have a read writable butler setup (above is read only)\n",
    "    butlerRW = SimplePipelineExecutor.prep_butler(repo, inputs=collections, output=analysisToolsCollection)\n",
    "\n",
    "    # load in the pipeline to run\n",
    "    pipeline = Pipeline.from_uri(\"$ANALYSIS_TOOLS_DIR/pipelines/coaddQualityCore.yaml\")\n",
    "\n",
    "    # override a configuration within a certain AnalysisTool\n",
    "    # configKey = \"atools.shapeSizeFractionalDiff.prep.selectors.snSelector.threshold\"\n",
    "    # pipeline.addConfigOverride(\"analyzeObjectTableCore\", configKey, 400)\n",
    "\n",
    "    # Run only the PSF size residual tool\n",
    "    pipeline.addConfigOverride(\"analyzeObjectTableCore\", \"atools\", None)\n",
    "    pipeline.addConfigOverride(\"analyzeObjectTableCore\", \"atools.shapeSizeFractionalDiff\", ShapeSizeFractionalDiff)\n",
    "\n",
    "    # bands = ['g', 'r', 'i', 'z']\n",
    "    bands = ['i']\n",
    "    pipeline.addConfigOverride(\"analyzeObjectTableCore\", \"bands\", bands)\n",
    "    pipeline.addConfigOverride(\"catalogMatchTract\", \"bands\", bands)\n",
    "    pipeline.addConfigOverride(\"refCatObjectTract\", \"bands\", bands)\n",
    "\n",
    "    # restrict processing to the same dataId used above\n",
    "    whereString = \"tract = 9813 AND skymap = 'hsc_rings_v1'\""
   ]
  },
  {
   "cell_type": "markdown",
   "id": "82652abd-f938-4a98-8f67-0eebe77324a6",
   "metadata": {},
   "source": [
    "Display the pipeline that is about to be run"
   ]
  },
  {
   "cell_type": "code",
   "execution_count": null,
   "id": "0044cb7f-df8d-4c3f-8261-df46178f912e",
   "metadata": {
    "execution": {
     "iopub.status.busy": "2024-02-20T20:00:55.566353Z",
     "iopub.status.idle": "2024-02-20T20:00:55.566498Z",
     "shell.execute_reply": "2024-02-20T20:00:55.566428Z",
     "shell.execute_reply.started": "2024-02-20T20:00:55.566422Z"
    },
    "tags": []
   },
   "outputs": [],
   "source": [
    "if not SANDBOX_REPO:\n",
    "    print(pipeline)"
   ]
  },
  {
   "cell_type": "code",
   "execution_count": null,
   "id": "d65aa110-38a8-4c41-9386-14222517a2ba",
   "metadata": {
    "execution": {
     "iopub.status.busy": "2024-02-20T20:00:55.567070Z",
     "iopub.status.idle": "2024-02-20T20:00:55.567258Z",
     "shell.execute_reply": "2024-02-20T20:00:55.567188Z",
     "shell.execute_reply.started": "2024-02-20T20:00:55.567181Z"
    },
    "tags": []
   },
   "outputs": [],
   "source": [
    "if not SANDBOX_REPO:\n",
    "    # Prevent the executor from dumping plots into the notebook\n",
    "    backend_ =  mpl.get_backend() \n",
    "    mpl.use(\"Agg\")\n",
    "\n",
    "    executor = SimplePipelineExecutor.from_pipeline(pipeline, where=whereString, butler=butlerRW)\n",
    "    quanta = executor.run(True)\n",
    "\n",
    "    # Restore the ability for plots to be put into the notebook\n",
    "    mpl.use(backend_)"
   ]
  },
  {
   "cell_type": "code",
   "execution_count": null,
   "id": "0d9009ec-38b0-4c67-954b-899974fd32f1",
   "metadata": {
    "execution": {
     "iopub.status.busy": "2024-02-20T20:00:55.567651Z",
     "iopub.status.idle": "2024-02-20T20:00:55.567808Z",
     "shell.execute_reply": "2024-02-20T20:00:55.567728Z",
     "shell.execute_reply.started": "2024-02-20T20:00:55.567721Z"
    },
    "tags": []
   },
   "outputs": [],
   "source": [
    "if not SANDBOX_REPO:\n",
    "    # Refresh our read-only butler to see the changes made. (It's generally a\n",
    "    # good idea to work on read-only things)\n",
    "    butler.registry.refresh()"
   ]
  },
  {
   "cell_type": "markdown",
   "id": "ffb24d5d-13f9-4c37-9f75-969b49eef233",
   "metadata": {},
   "source": [
    "## Access persisted metrics"
   ]
  },
  {
   "cell_type": "markdown",
   "id": "aeb1f09c-165b-41fa-8544-a2aaa44d5b6f",
   "metadata": {},
   "source": [
    "Specify the collection that holds the results of running analysis_tools. If you are pointing to your own instance of rc2_subset, you did this already above prior to running the pipeline and the cell below is not needed."
   ]
  },
  {
   "cell_type": "code",
   "execution_count": null,
   "id": "4ac51e0e-2ea4-48ea-881d-76f5bd5fbdc7",
   "metadata": {
    "execution": {
     "iopub.status.busy": "2024-02-20T20:00:55.568389Z",
     "iopub.status.idle": "2024-02-20T20:00:55.568540Z",
     "shell.execute_reply": "2024-02-20T20:00:55.568468Z",
     "shell.execute_reply.started": "2024-02-20T20:00:55.568461Z"
    },
    "tags": []
   },
   "outputs": [],
   "source": [
    "if SANDBOX_REPO:\n",
    "    # The following is not needed if you are pointing to your own instance of rc2_subset\n",
    "    analysisToolsCollection = \"u/bechtol/analysisToolsExample\""
   ]
  },
  {
   "cell_type": "markdown",
   "id": "c474ece0-6b8b-4e8c-989e-db23e23c8827",
   "metadata": {},
   "source": [
    "Check what dataset types exist in the new collection."
   ]
  },
  {
   "cell_type": "code",
   "execution_count": null,
   "id": "718585b6-757e-4de5-a3e1-ebfdc16e8164",
   "metadata": {
    "execution": {
     "iopub.status.busy": "2024-02-20T20:00:55.568994Z",
     "iopub.status.idle": "2024-02-20T20:00:55.569139Z",
     "shell.execute_reply": "2024-02-20T20:00:55.569068Z",
     "shell.execute_reply.started": "2024-02-20T20:00:55.569062Z"
    },
    "tags": []
   },
   "outputs": [],
   "source": [
    "# See what datasets exist; there should now be objectTableCore_metrics\n",
    "for datasetType in registry.queryDatasetTypes():\n",
    "    if registry.queryDatasets(datasetType, collections=analysisToolsCollection).any(execute=False, exact=False):\n",
    "        print(datasetType)"
   ]
  },
  {
   "cell_type": "markdown",
   "id": "24e88923-cc4f-4cfc-93ea-7f89f5620236",
   "metadata": {},
   "source": [
    "Access the persisted metrics."
   ]
  },
  {
   "cell_type": "code",
   "execution_count": null,
   "id": "88383083-4802-45ec-bd3a-eea87982906b",
   "metadata": {
    "execution": {
     "iopub.status.busy": "2024-02-20T20:00:55.569693Z",
     "iopub.status.idle": "2024-02-20T20:00:55.569887Z",
     "shell.execute_reply": "2024-02-20T20:00:55.569817Z",
     "shell.execute_reply.started": "2024-02-20T20:00:55.569810Z"
    }
   },
   "outputs": [],
   "source": [
    "analysisToolsCollection"
   ]
  },
  {
   "cell_type": "code",
   "execution_count": null,
   "id": "0a790bf8-a35b-44b0-8fa8-8640cc434506",
   "metadata": {
    "execution": {
     "iopub.status.busy": "2024-02-20T20:00:55.570263Z",
     "iopub.status.idle": "2024-02-20T20:00:55.570407Z",
     "shell.execute_reply": "2024-02-20T20:00:55.570338Z",
     "shell.execute_reply.started": "2024-02-20T20:00:55.570332Z"
    },
    "tags": []
   },
   "outputs": [],
   "source": [
    "# Get the metric that was written\n",
    "print(analysisToolsCollection)\n",
    "refs = sorted(butler.registry.queryDatasets(\"objectTableCore_metrics\", collections=analysisToolsCollection))\n",
    "pprint(refs)\n",
    "dataId = refs[-1].dataId\n",
    "print(dataId)\n",
    "print(refs[-1].run)\n",
    "objectTable_metrics = butler.get(\"objectTableCore_metrics\", dataId=dataId, collections=analysisToolsCollection)\n",
    "pprint(objectTable_metrics)"
   ]
  },
  {
   "cell_type": "markdown",
   "id": "1373184e-244f-4be7-ace0-9bee74833895",
   "metadata": {},
   "source": [
    "Also, we can see that a plot has been persisted, but there isn't a way to visualize the plot from the notebook. In the next section, we'll use the `reconstructor` to recreate the plot in the notebook."
   ]
  },
  {
   "cell_type": "code",
   "execution_count": null,
   "id": "67690e31-e5d6-4013-944e-21c5a93e7b93",
   "metadata": {
    "execution": {
     "iopub.status.busy": "2024-02-20T20:00:55.570936Z",
     "iopub.status.idle": "2024-02-20T20:00:55.571078Z",
     "shell.execute_reply": "2024-02-20T20:00:55.571011Z",
     "shell.execute_reply.started": "2024-02-20T20:00:55.571004Z"
    },
    "tags": []
   },
   "outputs": [],
   "source": [
    "refs = sorted(butler.registry.queryDatasets(\n",
    "    \"objectTableCore_i_shapeSizeFractionalDiff_ScatterPlotWithTwoHists\", \n",
    "    collections=analysisToolsCollection)\n",
    ")\n",
    "print(refs[0])\n",
    "\n",
    "# The following line will throw an error\n",
    "# plot = butler.get(\n",
    "#     \"objectTableCore_i_shapeSizeFractionalDiff_ScatterPlotWithTwoHists\",\n",
    "#     dataId=refs[0].dataId,\n",
    "#     collections=analysisToolsCollection\n",
    "# )"
   ]
  },
  {
   "cell_type": "markdown",
   "id": "b1c00f34-bef0-4f9b-be9a-b5d82974674f",
   "metadata": {},
   "source": [
    "### Reconstruct the inputs to an `AnalysisTool`\n",
    "\n",
    "Analysis(Tools/Actions) allow the exact state of `AnalysisTool`s to be saved into the Butler when a pipeline is run. This allows a user to 'reconstruct' things as they were when the tools were executed. This aids in debugging and deep diving into the data.\n",
    "\n",
    "Below is an example of reconstructing one of the tasks that was run in the Pipeline above."
   ]
  },
  {
   "cell_type": "code",
   "execution_count": null,
   "id": "1569bb6f-6dd7-4619-969a-1d4f9dd0bd3e",
   "metadata": {
    "execution": {
     "iopub.status.busy": "2024-02-20T20:00:55.571626Z",
     "iopub.status.idle": "2024-02-20T20:00:55.571891Z",
     "shell.execute_reply": "2024-02-20T20:00:55.571814Z",
     "shell.execute_reply.started": "2024-02-20T20:00:55.571806Z"
    },
    "tags": []
   },
   "outputs": [],
   "source": [
    "from lsst.analysis.tools.tasks.reconstructor import reconstructAnalysisTools\n",
    "\n",
    "# Read in just one task\n",
    "label = \"analyzeObjectTableCore\"\n",
    "taskState, inputData = reconstructAnalysisTools(butler, \n",
    "                                                collection=analysisToolsCollection, \n",
    "                                                label=label, \n",
    "                                                dataId=dataId, \n",
    "                                                callback=None\n",
    ")"
   ]
  },
  {
   "cell_type": "markdown",
   "id": "f03c96a9-d8a7-4a04-9461-8160779c3692",
   "metadata": {},
   "source": [
    "We have access to the exact configuration that was used to run the analysis tools."
   ]
  },
  {
   "cell_type": "code",
   "execution_count": null,
   "id": "ccc4d194-e979-4f5e-a7e7-7709c4b9a56c",
   "metadata": {
    "execution": {
     "iopub.status.busy": "2024-02-20T20:00:55.572341Z",
     "iopub.status.idle": "2024-02-20T20:00:55.572548Z",
     "shell.execute_reply": "2024-02-20T20:00:55.572478Z",
     "shell.execute_reply.started": "2024-02-20T20:00:55.572471Z"
    },
    "tags": []
   },
   "outputs": [],
   "source": [
    "pprint(taskState.toDict())"
   ]
  },
  {
   "cell_type": "markdown",
   "id": "fba7df8d-39a6-4eb8-8658-bc62ea8e3b63",
   "metadata": {},
   "source": [
    "We also have access to the input data that were used to produce the diagnostics, in this case, the object table."
   ]
  },
  {
   "cell_type": "code",
   "execution_count": null,
   "id": "2912a99c-b963-499c-a413-0dca8c869290",
   "metadata": {
    "execution": {
     "iopub.status.busy": "2024-02-20T20:00:55.573007Z",
     "iopub.status.idle": "2024-02-20T20:00:55.573147Z",
     "shell.execute_reply": "2024-02-20T20:00:55.573083Z",
     "shell.execute_reply.started": "2024-02-20T20:00:55.573077Z"
    },
    "tags": []
   },
   "outputs": [],
   "source": [
    "inputData[\"data\"]"
   ]
  },
  {
   "cell_type": "markdown",
   "id": "b8598951-1c6c-4773-aab9-dddafbe1561b",
   "metadata": {},
   "source": [
    "Quick check to verify that the object table data are indeed the same."
   ]
  },
  {
   "cell_type": "code",
   "execution_count": null,
   "id": "c8c838cb-ca4e-4603-af90-3af2b5527774",
   "metadata": {
    "execution": {
     "iopub.status.busy": "2024-02-20T20:00:55.573626Z",
     "iopub.status.idle": "2024-02-20T20:00:55.573772Z",
     "shell.execute_reply": "2024-02-20T20:00:55.573700Z",
     "shell.execute_reply.started": "2024-02-20T20:00:55.573694Z"
    },
    "tags": []
   },
   "outputs": [],
   "source": [
    "assert np.allclose(inputData[\"data\"]['coord_ra'], objectTable['coord_ra'])"
   ]
  },
  {
   "cell_type": "markdown",
   "id": "e908a5e2-b9c8-4e48-b069-54ff1ecaac26",
   "metadata": {},
   "source": [
    "We can now reproduce diagnostic metrics and plots interactively in the notebook"
   ]
  },
  {
   "cell_type": "code",
   "execution_count": null,
   "id": "f6877c94-35a8-433e-b3b8-c51d48ad0f30",
   "metadata": {
    "execution": {
     "iopub.status.busy": "2024-02-20T20:00:55.574301Z",
     "iopub.status.idle": "2024-02-20T20:00:55.574493Z",
     "shell.execute_reply": "2024-02-20T20:00:55.574423Z",
     "shell.execute_reply.started": "2024-02-20T20:00:55.574416Z"
    },
    "tags": []
   },
   "outputs": [],
   "source": [
    "# The following configuration won't be needed in the future\n",
    "taskState.atools.shapeSizeFractionalDiff.produce.plot.addSummaryPlot = False\n",
    "\n",
    "taskState.atools.shapeSizeFractionalDiff(\n",
    "    inputData['data'],\n",
    "    band='i',\n",
    "    skymap=None,\n",
    "    plotInfo=_StandinPlotInfo()\n",
    ")"
   ]
  },
  {
   "cell_type": "markdown",
   "id": "52b0701d-8753-45dc-a786-5986cb834c82",
   "metadata": {},
   "source": [
    "Next, we change one of the configuration parameters to see how the results change. \n",
    "\n",
    "In this example, we raise the signal-to-noise threshold to 200. Notice that the metric values and plot change with this updated object selection criteria."
   ]
  },
  {
   "cell_type": "code",
   "execution_count": null,
   "id": "a9ec74c4-429c-4d76-8b16-7859b283a8a3",
   "metadata": {
    "execution": {
     "iopub.status.busy": "2024-02-20T20:00:55.574962Z",
     "iopub.status.idle": "2024-02-20T20:00:55.575169Z",
     "shell.execute_reply": "2024-02-20T20:00:55.575100Z",
     "shell.execute_reply.started": "2024-02-20T20:00:55.575093Z"
    },
    "tags": []
   },
   "outputs": [],
   "source": [
    "# change some configuration to see the differences\n",
    "taskState.atools.shapeSizeFractionalDiff.prep.selectors.snSelector.threshold = 200\n",
    "taskState.atools.shapeSizeFractionalDiff(\n",
    "    inputData['data'],\n",
    "    band='i',\n",
    "    skymap=None,\n",
    "    plotInfo=_StandinPlotInfo()\n",
    ")"
   ]
  },
  {
   "cell_type": "markdown",
   "id": "8a40cf10-9df9-472d-b656-fd99dba20c4a",
   "metadata": {},
   "source": [
    "As before, we can also step through the calculation to check intermediate steps."
   ]
  },
  {
   "cell_type": "code",
   "execution_count": null,
   "id": "687feae9-6996-449d-b7a7-b12ba71d2791",
   "metadata": {
    "execution": {
     "iopub.status.busy": "2024-02-20T20:00:55.575632Z",
     "iopub.status.idle": "2024-02-20T20:00:55.575911Z",
     "shell.execute_reply": "2024-02-20T20:00:55.575837Z",
     "shell.execute_reply.started": "2024-02-20T20:00:55.575830Z"
    },
    "tags": []
   },
   "outputs": [],
   "source": [
    "prepResults = taskState.atools.shapeSizeFractionalDiff.prep(objectTable, band='i')\n",
    "processResults = taskState.atools.shapeSizeFractionalDiff.process(prepResults, band='i')\n",
    "produceResults = taskState.atools.shapeSizeFractionalDiff.produce(processResults, band='i', skymap=None, plotInfo=_StandinPlotInfo())"
   ]
  },
  {
   "cell_type": "markdown",
   "id": "7a5a688a-bb97-4ac3-87b1-a69ed2d5371f",
   "metadata": {},
   "source": [
    "## Create a new analysis tool\n",
    "\n",
    "Example `AnalysisTool`s can be found in the [atools](https://github.com/lsst/analysis_tools/tree/main/python/lsst/analysis/tools/atools) directory of the package.\n",
    "\n",
    "Now let's create our own `AnalysisTool`"
   ]
  },
  {
   "cell_type": "code",
   "execution_count": null,
   "id": "52a4ea7c-cc92-425f-89de-f85b9847c42a",
   "metadata": {
    "execution": {
     "iopub.status.busy": "2024-02-20T20:00:55.576325Z",
     "iopub.status.idle": "2024-02-20T20:00:55.576468Z",
     "shell.execute_reply": "2024-02-20T20:00:55.576402Z",
     "shell.execute_reply.started": "2024-02-20T20:00:55.576396Z"
    },
    "tags": []
   },
   "outputs": [],
   "source": [
    "from lsst.analysis.tools.interfaces import AnalysisTool\n",
    "from lsst.analysis.tools.actions.scalar import MedianAction, CountAction\n",
    "from lsst.analysis.tools.actions.vector import SnSelector\n",
    "\n",
    "\n",
    "class DemoTool(AnalysisTool):\n",
    "    #parameterizedBand: bool = False\n",
    "    \n",
    "    def setDefaults(self):\n",
    "        super().setDefaults()\n",
    "        \n",
    "        # select on high signal to noise obejcts\n",
    "        # add in a signal to noise selector\n",
    "        self.prep.selectors.snSelector = SnSelector()\n",
    "        \n",
    "        # set what key the selector should use when deciding SNR\n",
    "        self.prep.selectors.snSelector.fluxType = \"psfFlux\"\n",
    "        \n",
    "        # select what threshold value is desireable for the selector\n",
    "        self.prep.selectors.snSelector.threshold = 10\n",
    "        \n",
    "        # the final name in the qualification is used as a key to insert\n",
    "        # the calculation into KeyedData\n",
    "        self.process.calculateActions.median = MedianAction()\n",
    "        self.process.calculateActions.median.vectorKey = \"psfFlux\"\n",
    "        self.process.calculateActions.count = CountAction()\n",
    "        self.process.calculateActions.count.vectorKey = \"psfFlux\"\n",
    "        \n",
    "        # tell the metic what the units are for the quantity\n",
    "        self.produce.metric.units = {\"median\": \"Jy\",\n",
    "                                     \"count\": \"count\"}\n",
    "        \n",
    "        # Rename the quanity prior to producing the Metric\n",
    "        # (useful for resuable workflows that set a name toward the end of computation)\n",
    "        # self.produce.metric.newNames = {\"medianValueName\": \"DemoMetric\"}"
   ]
  },
  {
   "cell_type": "markdown",
   "id": "cfc314fb-6312-49c5-b34e-de2641e0d109",
   "metadata": {},
   "source": [
    "Examine the configuration of our new tool"
   ]
  },
  {
   "cell_type": "code",
   "execution_count": null,
   "id": "b6ea7b18-81fe-4427-8f0f-813b8be89256",
   "metadata": {
    "execution": {
     "iopub.status.busy": "2024-02-20T20:00:55.576950Z",
     "iopub.status.idle": "2024-02-20T20:00:55.577180Z",
     "shell.execute_reply": "2024-02-20T20:00:55.577107Z",
     "shell.execute_reply.started": "2024-02-20T20:00:55.577100Z"
    },
    "tags": []
   },
   "outputs": [],
   "source": [
    "DemoTool().toDict()"
   ]
  },
  {
   "cell_type": "markdown",
   "id": "72bd6355-e71c-4548-82da-6a68d72a91a9",
   "metadata": {},
   "source": [
    "Make some synthetic data"
   ]
  },
  {
   "cell_type": "code",
   "execution_count": null,
   "id": "eea5ed3d-860c-4670-b509-241d20fc5b43",
   "metadata": {
    "execution": {
     "iopub.status.busy": "2024-02-20T20:00:55.577618Z",
     "iopub.status.idle": "2024-02-20T20:00:55.577765Z",
     "shell.execute_reply": "2024-02-20T20:00:55.577695Z",
     "shell.execute_reply.started": "2024-02-20T20:00:55.577688Z"
    },
    "tags": []
   },
   "outputs": [],
   "source": [
    "# Make some synthetic data\n",
    "size = 500\n",
    "flux = np.logspace(1., 4., size)\n",
    "fluxErr = np.sqrt(flux)\n",
    "flux += np.random.normal(0, np.sqrt(flux), size)\n",
    "data = {\"psfFlux\": flux, \"psfFluxErr\": fluxErr}\n",
    "\n",
    "plt.figure()\n",
    "plt.xscale('log')\n",
    "plt.yscale('log')\n",
    "plt.scatter(data['psfFlux'], data['psfFluxErr'])\n",
    "plt.xlabel('psfFlux')\n",
    "plt.ylabel('psfFluxErr')"
   ]
  },
  {
   "cell_type": "markdown",
   "id": "78795035-d65b-4349-8311-95ca916f9479",
   "metadata": {},
   "source": [
    "Run the new analysis tool."
   ]
  },
  {
   "cell_type": "code",
   "execution_count": null,
   "id": "2afd643a-97b2-4e46-9b8f-4ba74e3c82a0",
   "metadata": {
    "execution": {
     "iopub.status.busy": "2024-02-20T20:00:55.578270Z",
     "iopub.status.idle": "2024-02-20T20:00:55.578535Z",
     "shell.execute_reply": "2024-02-20T20:00:55.578456Z",
     "shell.execute_reply.started": "2024-02-20T20:00:55.578448Z"
    },
    "tags": []
   },
   "outputs": [],
   "source": [
    "demoTool = DemoTool()\n",
    "demoTool.populatePrepFromProcess()\n",
    "\n",
    "# We can configure as needed\n",
    "demoTool.prep.selectors.snSelector.threshold = 50\n",
    "\n",
    "demoTool(data)"
   ]
  },
  {
   "cell_type": "markdown",
   "id": "a570e5ab-f6cb-4622-b40f-a5404b70ddc6",
   "metadata": {},
   "source": [
    "We can inspect intermediate stages of the analysis."
   ]
  },
  {
   "cell_type": "code",
   "execution_count": null,
   "id": "d76aea13-d00b-4da9-8ee0-73848cc39d4e",
   "metadata": {
    "execution": {
     "iopub.status.busy": "2024-02-20T20:00:55.578990Z",
     "iopub.status.idle": "2024-02-20T20:00:55.579202Z",
     "shell.execute_reply": "2024-02-20T20:00:55.579133Z",
     "shell.execute_reply.started": "2024-02-20T20:00:55.579126Z"
    },
    "tags": []
   },
   "outputs": [],
   "source": [
    "# Example: how many of the data points pass the SNR threshold?\n",
    "len(demoTool.prep(data)['psfFlux'])"
   ]
  },
  {
   "cell_type": "code",
   "execution_count": null,
   "id": "7e4b5ed1-20ae-4a34-af96-7fdb27811764",
   "metadata": {},
   "outputs": [],
   "source": []
  }
 ],
 "metadata": {
  "kernelspec": {
   "display_name": "LSST",
   "language": "python",
   "name": "lsst"
  },
  "language_info": {
   "codemirror_mode": {
    "name": "ipython",
    "version": 3
   },
   "file_extension": ".py",
   "mimetype": "text/x-python",
   "name": "python",
   "nbconvert_exporter": "python",
   "pygments_lexer": "ipython3",
   "version": "3.11.7"
  }
 },
 "nbformat": 4,
 "nbformat_minor": 5
}
